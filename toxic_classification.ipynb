{
 "cells": [
  {
   "cell_type": "markdown",
   "metadata": {},
   "source": [
    "<h1 align='center'> Toxic Comments Classification <h1>\n",
    "\n",
    "<h2 align='right'> Euiyoung (Jim) Chung <h2>\n",
    "\n",
    "\n",
    "## Descriptions:\n",
    "\n",
    "You are provided with a large number of Wikipedia comments which have been labeled by human raters for toxic behavior. The types of toxicity are:\n",
    "\n",
    "toxic<br>\n",
    "severe_toxic<br>\n",
    "obscene<br>\n",
    "threat<br>\n",
    "insult<br>\n",
    "identity_hate<br>\n",
    "<br>\n",
    "\n",
    "You must create a model which predicts a probability of each type of toxicity for each comment.\n",
    "\n",
    "\n",
    "\n",
    "\n",
    "\n",
    "## Table of Contents:\n",
    "\n",
    "1. Data Import \n",
    "2. Exploratory Data Analysis\n",
    "3. Feature Engineering\n",
    "4. Trying Multiple Models"
   ]
  },
  {
   "cell_type": "code",
   "execution_count": 1,
   "metadata": {},
   "outputs": [],
   "source": [
    "import warnings\n",
    "warnings.filterwarnings('ignore')\n",
    "\n",
    "import pandas as pd\n",
    "import numpy as np\n",
    "import seaborn as sns\n",
    "import matplotlib.pyplot as plt\n",
    "import nltk\n",
    "from string import punctuation\n",
    "\n",
    "from sklearn.feature_extraction.text import CountVectorizer, TfidfVectorizer\n",
    "from sklearn.model_selection import train_test_split, StratifiedKFold, cross_val_score, learning_curve\n",
    "from sklearn.pipeline import Pipeline\n",
    "from sklearn.compose import ColumnTransformer\n",
    "from sklearn.decomposition import TruncatedSVD\n",
    "from sklearn.preprocessing import MinMaxScaler\n",
    "from sklearn.linear_model import LogisticRegression\n",
    "from sklearn.metrics import classification_report\n",
    "from sklearn.naive_bayes import GaussianNB\n",
    "from sklearn.ensemble import RandomForestClassifier\n",
    "from xgboost import XGBClassifier\n",
    "from sklearn.neighbors import KNeighborsClassifier\n",
    "from sklearn.svm import SVC\n",
    "\n",
    "import re, string\n",
    "\n",
    "plt.style.use('seaborn-whitegrid')\n",
    "%matplotlib inline"
   ]
  },
  {
   "cell_type": "markdown",
   "metadata": {},
   "source": [
    "<br>\n",
    "## Data Import"
   ]
  },
  {
   "cell_type": "code",
   "execution_count": 2,
   "metadata": {},
   "outputs": [
    {
     "name": "stdout",
     "output_type": "stream",
     "text": [
      "\u001b[34mkensho_learn\u001b[m\u001b[m/               train.csv\r\n",
      "toxic_classification.ipynb\r\n"
     ]
    }
   ],
   "source": [
    "ls"
   ]
  },
  {
   "cell_type": "code",
   "execution_count": 3,
   "metadata": {},
   "outputs": [],
   "source": [
    "df = pd.read_csv('train.csv')"
   ]
  },
  {
   "cell_type": "code",
   "execution_count": 4,
   "metadata": {},
   "outputs": [
    {
     "data": {
      "text/html": [
       "<div>\n",
       "<style scoped>\n",
       "    .dataframe tbody tr th:only-of-type {\n",
       "        vertical-align: middle;\n",
       "    }\n",
       "\n",
       "    .dataframe tbody tr th {\n",
       "        vertical-align: top;\n",
       "    }\n",
       "\n",
       "    .dataframe thead th {\n",
       "        text-align: right;\n",
       "    }\n",
       "</style>\n",
       "<table border=\"1\" class=\"dataframe\">\n",
       "  <thead>\n",
       "    <tr style=\"text-align: right;\">\n",
       "      <th></th>\n",
       "      <th>id</th>\n",
       "      <th>comment_text</th>\n",
       "      <th>toxic</th>\n",
       "      <th>severe_toxic</th>\n",
       "      <th>obscene</th>\n",
       "      <th>threat</th>\n",
       "      <th>insult</th>\n",
       "      <th>identity_hate</th>\n",
       "    </tr>\n",
       "  </thead>\n",
       "  <tbody>\n",
       "    <tr>\n",
       "      <th>0</th>\n",
       "      <td>0000997932d777bf</td>\n",
       "      <td>Explanation\\nWhy the edits made under my usern...</td>\n",
       "      <td>0</td>\n",
       "      <td>0</td>\n",
       "      <td>0</td>\n",
       "      <td>0</td>\n",
       "      <td>0</td>\n",
       "      <td>0</td>\n",
       "    </tr>\n",
       "    <tr>\n",
       "      <th>1</th>\n",
       "      <td>000103f0d9cfb60f</td>\n",
       "      <td>D'aww! He matches this background colour I'm s...</td>\n",
       "      <td>0</td>\n",
       "      <td>0</td>\n",
       "      <td>0</td>\n",
       "      <td>0</td>\n",
       "      <td>0</td>\n",
       "      <td>0</td>\n",
       "    </tr>\n",
       "    <tr>\n",
       "      <th>2</th>\n",
       "      <td>000113f07ec002fd</td>\n",
       "      <td>Hey man, I'm really not trying to edit war. It...</td>\n",
       "      <td>0</td>\n",
       "      <td>0</td>\n",
       "      <td>0</td>\n",
       "      <td>0</td>\n",
       "      <td>0</td>\n",
       "      <td>0</td>\n",
       "    </tr>\n",
       "    <tr>\n",
       "      <th>3</th>\n",
       "      <td>0001b41b1c6bb37e</td>\n",
       "      <td>\"\\nMore\\nI can't make any real suggestions on ...</td>\n",
       "      <td>0</td>\n",
       "      <td>0</td>\n",
       "      <td>0</td>\n",
       "      <td>0</td>\n",
       "      <td>0</td>\n",
       "      <td>0</td>\n",
       "    </tr>\n",
       "    <tr>\n",
       "      <th>4</th>\n",
       "      <td>0001d958c54c6e35</td>\n",
       "      <td>You, sir, are my hero. Any chance you remember...</td>\n",
       "      <td>0</td>\n",
       "      <td>0</td>\n",
       "      <td>0</td>\n",
       "      <td>0</td>\n",
       "      <td>0</td>\n",
       "      <td>0</td>\n",
       "    </tr>\n",
       "  </tbody>\n",
       "</table>\n",
       "</div>"
      ],
      "text/plain": [
       "                 id                                       comment_text  toxic  \\\n",
       "0  0000997932d777bf  Explanation\\nWhy the edits made under my usern...      0   \n",
       "1  000103f0d9cfb60f  D'aww! He matches this background colour I'm s...      0   \n",
       "2  000113f07ec002fd  Hey man, I'm really not trying to edit war. It...      0   \n",
       "3  0001b41b1c6bb37e  \"\\nMore\\nI can't make any real suggestions on ...      0   \n",
       "4  0001d958c54c6e35  You, sir, are my hero. Any chance you remember...      0   \n",
       "\n",
       "   severe_toxic  obscene  threat  insult  identity_hate  \n",
       "0             0        0       0       0              0  \n",
       "1             0        0       0       0              0  \n",
       "2             0        0       0       0              0  \n",
       "3             0        0       0       0              0  \n",
       "4             0        0       0       0              0  "
      ]
     },
     "execution_count": 4,
     "metadata": {},
     "output_type": "execute_result"
    }
   ],
   "source": [
    "df.head()"
   ]
  },
  {
   "cell_type": "code",
   "execution_count": 5,
   "metadata": {
    "scrolled": false
   },
   "outputs": [
    {
     "data": {
      "text/plain": [
       "0     Explanation\\nWhy the edits made under my username Hardcore Metallica Fan were reverted? They wer...\n",
       "1     D'aww! He matches this background colour I'm seemingly stuck with. Thanks.  (talk) 21:51, Januar...\n",
       "2     Hey man, I'm really not trying to edit war. It's just that this guy is constantly removing relev...\n",
       "3     \"\\nMore\\nI can't make any real suggestions on improvement - I wondered if the section statistics...\n",
       "4                                     You, sir, are my hero. Any chance you remember what page that's on?\n",
       "5                                     \"\\n\\nCongratulations from me as well, use the tools well.  · talk \"\n",
       "6                                                            COCKSUCKER BEFORE YOU PISS AROUND ON MY WORK\n",
       "7     Your vandalism to the Matt Shirvington article has been reverted.  Please don't do it again, or ...\n",
       "8     Sorry if the word 'nonsense' was offensive to you. Anyway, I'm not intending to write anything i...\n",
       "9                                  alignment on this subject and which are contrary to those of DuLithgow\n",
       "10    \"\\nFair use rationale for Image:Wonju.jpg\\n\\nThanks for uploading Image:Wonju.jpg. I notice the ...\n",
       "11                                             bbq \\n\\nbe a man and lets discuss it-maybe over the phone?\n",
       "12    Hey... what is it..\\n@ | talk .\\nWhat is it... an exclusive group of some WP TALIBANS...who are ...\n",
       "13    Before you start throwing accusations and warnings at me, lets review the edit itself-making ad ...\n",
       "14    Oh, and the girl above started her arguments with me. She stuck her nose where it doesn't belong...\n",
       "15    \"\\n\\nJuelz Santanas Age\\n\\nIn 2002, Juelz Santana was 18 years old, then came February 18th, whi...\n",
       "16                                            Bye! \\n\\nDon't look, come or think of comming back! Tosser.\n",
       "17                                                       REDIRECT Talk:Voydan Pop Georgiev- Chernodrinski\n",
       "18    The Mitsurugi point made no sense - why not argue to include Hindi on Ryo Sakazaki's page to inc...\n",
       "19    Don't mean to bother you \\n\\nI see that you're writing something regarding removing anything pos...\n",
       "Name: comment_text, dtype: object"
      ]
     },
     "execution_count": 5,
     "metadata": {},
     "output_type": "execute_result"
    }
   ],
   "source": [
    "pd.options.display.max_colwidth = 100\n",
    "df['comment_text'].head(20)"
   ]
  },
  {
   "cell_type": "code",
   "execution_count": 6,
   "metadata": {},
   "outputs": [
    {
     "data": {
      "text/plain": [
       "id               0\n",
       "comment_text     0\n",
       "toxic            0\n",
       "severe_toxic     0\n",
       "obscene          0\n",
       "threat           0\n",
       "insult           0\n",
       "identity_hate    0\n",
       "dtype: int64"
      ]
     },
     "execution_count": 6,
     "metadata": {},
     "output_type": "execute_result"
    }
   ],
   "source": [
    "df.isnull().sum()"
   ]
  },
  {
   "cell_type": "markdown",
   "metadata": {},
   "source": [
    "<br>\n",
    "## Exploratory Analysis"
   ]
  },
  {
   "cell_type": "code",
   "execution_count": 7,
   "metadata": {},
   "outputs": [],
   "source": [
    "# 0: clean, 1: toxic\n",
    "df['isToxic'] = 1-(df.iloc[:,3:].sum(axis=1) == 0)"
   ]
  },
  {
   "cell_type": "code",
   "execution_count": 8,
   "metadata": {},
   "outputs": [],
   "source": [
    "df['str_len'] = df['comment_text'].str.len()"
   ]
  },
  {
   "cell_type": "code",
   "execution_count": 9,
   "metadata": {
    "scrolled": true
   },
   "outputs": [
    {
     "name": "stdout",
     "output_type": "stream",
     "text": [
      "Is evry id unique?: True\n"
     ]
    }
   ],
   "source": [
    "print(\"Is evry id unique?:\", len(df['id'].unique()) == len(df))"
   ]
  },
  {
   "cell_type": "code",
   "execution_count": 10,
   "metadata": {},
   "outputs": [
    {
     "data": {
      "text/plain": [
       "isToxic\n",
       "0    401.840355\n",
       "1    284.460934\n",
       "Name: str_len, dtype: float64"
      ]
     },
     "execution_count": 10,
     "metadata": {},
     "output_type": "execute_result"
    }
   ],
   "source": [
    "df.groupby(['isToxic'])['str_len'].mean()"
   ]
  },
  {
   "cell_type": "code",
   "execution_count": 11,
   "metadata": {
    "scrolled": true
   },
   "outputs": [
    {
     "data": {
      "text/plain": [
       "<matplotlib.axes._subplots.AxesSubplot at 0x10fbadeb8>"
      ]
     },
     "execution_count": 11,
     "metadata": {},
     "output_type": "execute_result"
    },
    {
     "data": {
      "image/png": "[encoded data removed]",
      "text/plain": [
       "<Figure size 432x288 with 1 Axes>"
      ]
     },
     "metadata": {},
     "output_type": "display_data"
    }
   ],
   "source": [
    "sns.violinplot('isToxic', 'str_len', data=df)"
   ]
  },
  {
   "cell_type": "code",
   "execution_count": 12,
   "metadata": {},
   "outputs": [
    {
     "data": {
      "text/plain": [
       "KruskalResult(statistic=2454.691571254291, pvalue=0.0)"
      ]
     },
     "execution_count": 12,
     "metadata": {},
     "output_type": "execute_result"
    }
   ],
   "source": [
    "# Non-parametric two-sample t-test. Significant difference under 99% confidence level.\n",
    "from scipy.stats import kruskal\n",
    "kruskal(df.loc[df['isToxic']==0, 'str_len'], df.loc[df['isToxic']==1, 'str_len'])"
   ]
  },
  {
   "cell_type": "code",
   "execution_count": 13,
   "metadata": {},
   "outputs": [],
   "source": [
    "def count_upper(txt):\n",
    "    return sum(1 for t in txt if t.isupper())\n",
    "\n",
    "df['how_many_upper'] = df['comment_text'].apply(count_upper)"
   ]
  },
  {
   "cell_type": "code",
   "execution_count": 14,
   "metadata": {
    "scrolled": false
   },
   "outputs": [
    {
     "data": {
      "text/plain": [
       "<matplotlib.axes._subplots.AxesSubplot at 0x11740cba8>"
      ]
     },
     "execution_count": 14,
     "metadata": {},
     "output_type": "execute_result"
    },
    {
     "data": {
      "image/png": "[encoded data removed]",
      "text/plain": [
       "<Figure size 1152x432 with 1 Axes>"
      ]
     },
     "metadata": {},
     "output_type": "display_data"
    }
   ],
   "source": [
    "plt.figure(figsize=(16,6))\n",
    "sns.violinplot('isToxic', 'how_many_upper', data=df)"
   ]
  },
  {
   "cell_type": "code",
   "execution_count": 15,
   "metadata": {},
   "outputs": [
    {
     "data": {
      "text/plain": [
       "isToxic\n",
       "0    15.023931\n",
       "1    47.299271\n",
       "Name: how_many_upper, dtype: float64"
      ]
     },
     "execution_count": 15,
     "metadata": {},
     "output_type": "execute_result"
    }
   ],
   "source": [
    "df.groupby(['isToxic'])['how_many_upper'].mean()"
   ]
  },
  {
   "cell_type": "code",
   "execution_count": 16,
   "metadata": {},
   "outputs": [
    {
     "data": {
      "text/plain": [
       "KruskalResult(statistic=627.2006018318158, pvalue=2.030798915061655e-138)"
      ]
     },
     "execution_count": 16,
     "metadata": {},
     "output_type": "execute_result"
    }
   ],
   "source": [
    "kruskal(df.loc[df['isToxic']==1, 'how_many_upper'], df.loc[df['isToxic']==0, 'how_many_upper'])"
   ]
  },
  {
   "cell_type": "code",
   "execution_count": 17,
   "metadata": {},
   "outputs": [],
   "source": [
    "def count_punct(txt):\n",
    "    return sum(1 for t in txt if t in punctuation)\n",
    "\n",
    "df['how_many_punct'] = df['comment_text'].apply(count_punct)"
   ]
  },
  {
   "cell_type": "code",
   "execution_count": 18,
   "metadata": {},
   "outputs": [
    {
     "data": {
      "text/plain": [
       "isToxic\n",
       "0    16.021112\n",
       "1    13.970452\n",
       "Name: how_many_punct, dtype: float64"
      ]
     },
     "execution_count": 18,
     "metadata": {},
     "output_type": "execute_result"
    }
   ],
   "source": [
    "df.groupby(['isToxic'])['how_many_punct'].mean()"
   ]
  },
  {
   "cell_type": "code",
   "execution_count": 19,
   "metadata": {
    "scrolled": true
   },
   "outputs": [
    {
     "data": {
      "text/plain": [
       "KruskalResult(statistic=2340.3287486494637, pvalue=0.0)"
      ]
     },
     "execution_count": 19,
     "metadata": {},
     "output_type": "execute_result"
    }
   ],
   "source": [
    "kruskal(df.loc[df['isToxic']==1, 'how_many_punct'], df.loc[df['isToxic']==0, 'how_many_punct'])"
   ]
  },
  {
   "cell_type": "code",
   "execution_count": 20,
   "metadata": {},
   "outputs": [],
   "source": [
    "df['how_many_upper_cat'] = pd.qcut(df['how_many_upper'], q=3, labels=[0,1,2])"
   ]
  },
  {
   "cell_type": "code",
   "execution_count": 21,
   "metadata": {
    "scrolled": true
   },
   "outputs": [],
   "source": [
    "ulim = df['how_many_punct'].quantile(0.99)-1e-5\n",
    "\n",
    "df.loc[~df['how_many_punct'].between(0,ulim), 'how_many_upper'] = ulim"
   ]
  },
  {
   "cell_type": "code",
   "execution_count": 22,
   "metadata": {},
   "outputs": [],
   "source": [
    "df['str_len_cat'] = pd.qcut(df['str_len'], 4, range(4))"
   ]
  },
  {
   "cell_type": "code",
   "execution_count": 23,
   "metadata": {},
   "outputs": [],
   "source": [
    "df['target'] = df.iloc[:,2:8].sum(axis=1)"
   ]
  },
  {
   "cell_type": "markdown",
   "metadata": {},
   "source": [
    "<br>\n",
    "## Feature Engineering\n",
    "\n",
    "### Text stemming and vectorization\n"
   ]
  },
  {
   "cell_type": "code",
   "execution_count": 24,
   "metadata": {},
   "outputs": [],
   "source": [
    "drop_cols = ['id', 'toxic', 'severe_toxic', 'obscene', 'threat', \n",
    "             'insult', 'identity_hate', 'isToxic', 'str_len', 'how_many_upper']\n",
    "\n",
    "X = df.drop(drop_cols, axis=1)\n",
    "y = df['target']"
   ]
  },
  {
   "cell_type": "code",
   "execution_count": 25,
   "metadata": {},
   "outputs": [],
   "source": [
    "X_train, X_test, y_train, y_test = train_test_split(X, y, test_size=0.2, shuffle=True, stratify=y)"
   ]
  },
  {
   "cell_type": "code",
   "execution_count": 26,
   "metadata": {},
   "outputs": [
    {
     "data": {
      "text/plain": [
       "(127656, 5)"
      ]
     },
     "execution_count": 26,
     "metadata": {},
     "output_type": "execute_result"
    }
   ],
   "source": [
    "X_train.shape"
   ]
  },
  {
   "cell_type": "code",
   "execution_count": 27,
   "metadata": {},
   "outputs": [],
   "source": [
    "english_stemmer = nltk.stem.SnowballStemmer('english')\n",
    "\n",
    "class StemmedCountVectorizer(CountVectorizer):\n",
    "    def build_analyzer(self):\n",
    "        analyzer = super(StemmedCountVectorizer, self).build_analyzer()\n",
    "        return lambda doc: ([english_stemmer.stem(w) for w in analyzer(doc)])\n",
    "\n",
    "vectorizer_s = StemmedCountVectorizer(min_df=3, max_df=0.99, analyzer=\"word\", stop_words='english')"
   ]
  },
  {
   "cell_type": "code",
   "execution_count": 28,
   "metadata": {},
   "outputs": [],
   "source": [
    "re_tok = re.compile(f'([{string.punctuation}“”¨«»®´·º½¾¿¡§£₤‘’])')\n",
    "\n",
    "def tokenize(s): \n",
    "    return re_tok.sub(r' \\1 ', s).split()\n",
    "\n",
    "class StemmedTfidfVectorizer(TfidfVectorizer):\n",
    "    def build_analyzer(self):\n",
    "        analyzer = super(StemmedTfidfVectorizer, self).build_analyzer()\n",
    "        return lambda doc: ([english_stemmer.stem(w) for w in analyzer(doc)])\n",
    "\n",
    "tf = StemmedTfidfVectorizer(ngram_range=(1,2), tokenizer=tokenize,\n",
    "               min_df=3, max_df=0.9, analyzer='word')\n",
    "\n",
    "vector_train = tf.fit_transform(X_train['comment_text'])\n",
    "vector_test = tf.transform(X_test['comment_text'])"
   ]
  },
  {
   "cell_type": "code",
   "execution_count": 29,
   "metadata": {},
   "outputs": [
    {
     "data": {
      "text/plain": [
       "<127656x334339 sparse matrix of type '<class 'numpy.float64'>'\n",
       "\twith 14069177 stored elements in Compressed Sparse Row format>"
      ]
     },
     "execution_count": 29,
     "metadata": {},
     "output_type": "execute_result"
    }
   ],
   "source": [
    "vector_train"
   ]
  },
  {
   "cell_type": "code",
   "execution_count": 30,
   "metadata": {},
   "outputs": [],
   "source": [
    "svd = TruncatedSVD(n_components=10, random_state=42)\n",
    "vector_train, vector_test = svd.fit_transform(vector_train), svd.fit_transform(vector_test)"
   ]
  },
  {
   "cell_type": "code",
   "execution_count": 31,
   "metadata": {},
   "outputs": [],
   "source": [
    "X_train = np.concatenate([X_train.drop('comment_text', axis=1).values, vector_train], axis=1)\n",
    "X_test = np.concatenate([X_test.drop('comment_text', axis=1).values, vector_test], axis=1)"
   ]
  },
  {
   "cell_type": "code",
   "execution_count": 32,
   "metadata": {},
   "outputs": [
    {
     "data": {
      "text/plain": [
       "array([[9, 1, 1, ..., -0.02413246721921937, -0.0013562341314826349,\n",
       "        0.0027734539505963047],\n",
       "       [171, 2, 3, ..., -0.0042212963666413, -0.004817683105552078,\n",
       "        -0.0034826014801795885],\n",
       "       [9, 1, 1, ..., -0.010782912242712358, -0.028487781777783043,\n",
       "        0.0064554394244144015],\n",
       "       ...,\n",
       "       [6, 0, 0, ..., 0.0706788999411567, 0.049652417907227894,\n",
       "        -0.06944346490891519],\n",
       "       [1, 0, 0, ..., -0.004247172791744611, -0.002718029784568676,\n",
       "        0.016394365025234326],\n",
       "       [10, 1, 1, ..., -0.12057885833248079, -0.03385357345187292,\n",
       "        0.04427723479959908]], dtype=object)"
      ]
     },
     "execution_count": 32,
     "metadata": {},
     "output_type": "execute_result"
    }
   ],
   "source": [
    "X_train"
   ]
  },
  {
   "cell_type": "code",
   "execution_count": 33,
   "metadata": {},
   "outputs": [
    {
     "name": "stderr",
     "output_type": "stream",
     "text": [
      "/Users/jimmy/anaconda3/lib/python3.6/site-packages/sklearn/utils/validation.py:595: DataConversionWarning: Data with input dtype object was converted to float64 by MinMaxScaler.\n",
      "  warnings.warn(msg, DataConversionWarning)\n",
      "/Users/jimmy/anaconda3/lib/python3.6/site-packages/sklearn/utils/validation.py:595: DataConversionWarning: Data with input dtype object was converted to float64 by MinMaxScaler.\n",
      "  warnings.warn(msg, DataConversionWarning)\n"
     ]
    }
   ],
   "source": [
    "mm = MinMaxScaler()\n",
    "X_train, X_test = mm.fit_transform(X_train), mm.fit_transform(X_test)"
   ]
  },
  {
   "cell_type": "code",
   "execution_count": 34,
   "metadata": {
    "scrolled": true
   },
   "outputs": [],
   "source": [
    "y_train, y_test = y_train.values, y_test.values"
   ]
  },
  {
   "cell_type": "markdown",
   "metadata": {},
   "source": [
    "<br>\n",
    "## Baseline Model - Logistic Regression"
   ]
  },
  {
   "cell_type": "code",
   "execution_count": 35,
   "metadata": {},
   "outputs": [
    {
     "name": "stderr",
     "output_type": "stream",
     "text": [
      "/Users/jimmy/anaconda3/lib/python3.6/site-packages/sklearn/linear_model/logistic.py:1297: UserWarning: 'n_jobs' > 1 does not have any effect when 'solver' is set to 'liblinear'. Got 'n_jobs' = 4.\n",
      "  \" = {}.\".format(effective_n_jobs(self.n_jobs)))\n"
     ]
    },
    {
     "data": {
      "text/plain": [
       "{'Logistic Regression': 0.9549570721313531}"
      ]
     },
     "execution_count": 35,
     "metadata": {},
     "output_type": "execute_result"
    }
   ],
   "source": [
    "lr = LogisticRegression(n_jobs=-1, class_weight='balanced')\n",
    "\n",
    "def simple_training_acc(preds, X, y, names=None):\n",
    "    \n",
    "    acc = {}\n",
    "    \n",
    "    for i, pred in enumerate(preds):\n",
    "        prediction = pred.fit(X, y).predict(X)\n",
    "        \n",
    "        if names:\n",
    "            acc[names[i]] = ((prediction == y).sum())/len(y)\n",
    "        else:\n",
    "            acc[i] = ((prediction == y).sum())/len(y)\n",
    "            \n",
    "    return acc\n",
    "\n",
    "simple_training_acc([lr], X_train, y_train, ['Logistic Regression'])"
   ]
  },
  {
   "cell_type": "code",
   "execution_count": 2,
   "metadata": {},
   "outputs": [
    {
     "name": "stdout",
     "output_type": "stream",
     "text": [
      "Cross Validation Accuracy: 0.78\n"
     ]
    }
   ],
   "source": [
    "# Do Cross-validation\n",
    "kfold = StratifiedKFold(n_splits=3)\n",
    "lr_acc = cross_val_score(lr, X_train, y_train, scoring='accuracy', \n",
    "                               cv=kfold, n_jobs=-1)\n",
    "print(\"Cross Validation Accuracy: \", lr_acc.mean())"
   ]
  },
  {
   "cell_type": "markdown",
   "metadata": {},
   "source": [
    "## One More - Learning Curve"
   ]
  },
  {
   "cell_type": "code",
   "execution_count": null,
   "metadata": {},
   "outputs": [],
   "source": [
    "def call_plot(xaxis, train_scores, test_scores, name_pred, name_param):\n",
    "    train_scores_mean = np.mean(train_scores, axis=1)\n",
    "    test_scores_mean = np.mean(test_scores, axis=1)\n",
    "\n",
    "    train_scores_std = np.std(train_scores, axis=1)\n",
    "    test_scores_std = np.std(test_scores, axis=1)\n",
    "    \n",
    "    plt.rcParams['font.size'] = 12\n",
    "    plt.figure(figsize=(10,4))\n",
    "    plt.plot(xaxis, train_scores_mean, label='Train score')\n",
    "    plt.plot(xaxis, test_scores_mean, label='Test score')\n",
    "    plt.fill_between(xaxis, train_scores_mean - train_scores_std,\n",
    "                train_scores_mean + train_scores_std, alpha=0.15)\n",
    "    plt.fill_between(xaxis, test_scores_mean - test_scores_std,\n",
    "                test_scores_mean + test_scores_std, alpha=0.15)\n",
    "    plt.legend(fontsize=14)\n",
    "    plt.xlabel(name_param)\n",
    "    plt.ylabel('Accuracy')\n",
    "    plt.title(\"{} Accuracy vs. {}\".format(name_pred, name_param))\n",
    "    plt.show()\n",
    "    \n",
    "def plot_learning_curve(predictor, X, y, name_param, name_pred, cv=3):\n",
    "    train_sizes, train_scores, test_scores = learning_curve(predictor, X, y, cv=cv)\n",
    "    call_plot(train_sizes, train_scores, test_scores, name_pred, name_param)\n",
    "    \n",
    "plot_learning_curve(lr, X_train, y_train, \"Training Samples\", \"Logistic Regression\")"
   ]
  },
  {
   "cell_type": "markdown",
   "metadata": {},
   "source": [
    "<br>\n",
    "## Trying Multiple Models"
   ]
  },
  {
   "cell_type": "code",
   "execution_count": null,
   "metadata": {},
   "outputs": [],
   "source": [
    "def plot_multiple_learning_curve(preds, X, y, title='', figsize=(13, 5), names=[], cv=3):\n",
    "    '''\n",
    "    Calling learning curve plots for multiple predictors.\n",
    "    Learning curves are good indicators of overfitting or underfitting.\n",
    "    \n",
    "    '''\n",
    "    n_pred = len(preds)\n",
    "    \n",
    "    train_scores = {}\n",
    "    test_scores = {}\n",
    "    \n",
    "    for i, pred in enumerate(preds):\n",
    "        train_sizes, train_scores[names[i]], test_scores[names[i]] = learning_curve(pred, X, y, cv=cv)\n",
    "    \n",
    "\n",
    "    plt.rcParams['font.size'] = 12\n",
    "    \n",
    "    n_col = 2\n",
    "    n_row = int(np.ceil(n_pred/2)) \n",
    "    does_last_exist = bool(n_pred%2) \n",
    "    \n",
    "    fig, axs = plt.subplots(n_row, n_col, figsize=figsize)\n",
    "    if does_last_exist:\n",
    "        fig.delaxes(axs[n_row-1, 1])\n",
    "    \n",
    "    axs = axs.ravel()\n",
    "    axs = axs[:-1] if does_last_exist else axs\n",
    "    \n",
    "    fig.suptitle(title)\n",
    "    plt.subplots_adjust(hspace=0.5)\n",
    "    \n",
    "    for i, ax in enumerate(axs):\n",
    "        mean_train_scores = np.mean(train_scores[names[i]], axis=1)\n",
    "        mean_test_scores = np.mean(test_scores[names[i]], axis=1)\n",
    "        std_train_scores = np.std(train_scores[names[i]], axis=1)\n",
    "        std_test_scores = np.std(test_scores[names[i]], axis=1)\n",
    "        \n",
    "        ax.plot(train_sizes, mean_train_scores, 'o-', color='r',\n",
    "                  label='Training score')\n",
    "        ax.plot(train_sizes, mean_test_scores, 'o-', color='g',\n",
    "                  label='Test score')\n",
    "        ax.fill_between(train_sizes, mean_train_scores - std_train_scores,\n",
    "                          mean_train_scores + std_train_scores, alpha=0.15, color='r')\n",
    "        ax.fill_between(train_sizes, mean_test_scores - std_test_scores,\n",
    "                          mean_test_scores + std_test_scores, alpha=0.15, color='g')\n",
    "        ax.legend(loc='best')\n",
    "        ax.set_title(names[i])\n",
    "    \n",
    "    return plt\n",
    "\n",
    "predictors = [KNeighborsClassifier(), GaussianNB(), RandomForestClassifier(), \n",
    "              XGBClassifier(), SVC(decision_function_shape='ovo')]\n",
    "pred_names = ['kn', 'nb', 'rf', 'xgb', 'svc']\n",
    "\n",
    "plot_multiple_learning_curve(predictors, X_train, y_train, figsize=(16, 10), \n",
    "                              title='Learning Curve over Predictors', names=pred_names)"
   ]
  },
  {
   "cell_type": "markdown",
   "metadata": {},
   "source": [
    "<br>\n",
    "<br><br><br>"
   ]
  }
 ],
 "metadata": {
  "kernelspec": {
   "display_name": "Python 3",
   "language": "python",
   "name": "python3"
  },
  "language_info": {
   "codemirror_mode": {
    "name": "ipython",
    "version": 3
   },
   "file_extension": ".py",
   "mimetype": "text/x-python",
   "name": "python",
   "nbconvert_exporter": "python",
   "pygments_lexer": "ipython3",
   "version": "3.6.4"
  }
 },
 "nbformat": 4,
 "nbformat_minor": 2
}
