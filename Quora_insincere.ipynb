{
 "cells": [
  {
   "cell_type": "markdown",
   "metadata": {},
   "source": [
    "<h1 align='center'> Quora Insincere Quetions Prediction <h1>\n",
    "\n",
    "<h2 align='right'> Euiyoung (Jim) Chung <h2>\n",
    "\n",
    "\n",
    "## Descriptions:\n",
    "\n",
    "In this competition you will be predicting whether a question asked on Quora is sincere or not.\n",
    "\n",
    "An insincere question is defined as a question intended to make a statement rather than look for helpful answers. Some characteristics that can signify that a question is insincere:\n",
    "\n",
    "Has a non-neutral tone\n",
    "Has an exaggerated tone to underscore a point about a group of people\n",
    "Is rhetorical and meant to imply a statement about a group of people\n",
    "Is disparaging or inflammatory\n",
    "Suggests a discriminatory idea against a protected class of people, or seeks confirmation of a stereotype\n",
    "Makes disparaging attacks/insults against a specific person or group of people\n",
    "Based on an outlandish premise about a group of people\n",
    "Disparages against a characteristic that is not fixable and not measurable\n",
    "Isn't grounded in reality\n",
    "Based on false information, or contains absurd assumptions\n",
    "Uses sexual content (incest, bestiality, pedophilia) for shock value, and not to seek genuine answers\n",
    "The training data includes the question that was asked, and whether it was identified as insincere (target = 1). The ground-truth labels contain some amount of noise: they are not guaranteed to be perfect.\n",
    "\n",
    "Note that the distribution of questions in the dataset should not be taken to be representative of the distribution of questions asked on Quora. This is, in part, because of the combination of sampling procedures and sanitization measures that have been applied to the final dataset.\n",
    "\n",
    "**Data fields**<br>\n",
    "qid - unique question identifier<br>\n",
    "question_text - Quora question text<br>\n",
    "target - a question labeled \"insincere\" has a value of 1, otherwise 0<br>\n",
    "\n",
    "\n",
    "## Table of Contents:\n",
    "\n",
    "1. Data Import \n",
    "2. Exploratory Data Analysis\n",
    "3. Feature Engineering\n",
    "4. Trying Multiple Model - Multiple Metrics - accuracy, recall, precision, f1 - based on learning curve I like ~ better.\n",
    "5. Imbalance in Data - SMOTE\n",
    "6. Fine-Tuning - f1-weighted, ROC curve, validation curve\n",
    "7. Insights from the Models -> feature importance\n",
    "8. Further - Error Analysis"
   ]
  },
  {
   "cell_type": "code",
   "execution_count": 2,
   "metadata": {},
   "outputs": [],
   "source": [
    "import warnings\n",
    "warnings.filterwarnings(\"ignore\")\n",
    "\n",
    "# data wrangling\n",
    "import numpy as np\n",
    "import pandas as pd\n",
    "import matplotlib.pyplot as plt\n",
    "import seaborn as sns\n",
    "\n",
    "# Text handling\n",
    "from string import punctuation\n",
    "import re\n",
    "from nltk.corpus import stopwords\n",
    "from nltk.stem import PorterStemmer\n",
    "from sklearn.feature_extraction.text import CountVectorizer, TfidfVectorizer\n",
    "\n",
    "# ml\n",
    "from sklearn.model_selection import (train_test_split, RandomizedSearchCV, StratifiedKFold, \n",
    "                                        cross_val_score, learning_curve, validation_curve, cross_val_predict)\n",
    "from sklearn.metrics import (make_scorer, confusion_matrix, accuracy_score,\n",
    "                            precision_recall_fscore_support, f1_score, classification_report)\n",
    "from sklearn.ensemble import RandomForestClassifier\n",
    "from xgboost import XGBClassifier\n",
    "from sklearn.preprocessing import OneHotEncoder, StandardScaler, MinMaxScaler, Imputer, LabelEncoder\n",
    "from sklearn.feature_extraction.text import TfidfVectorizer, CountVectorizer\n",
    "from sklearn.pipeline import Pipeline\n",
    "from sklearn.compose import ColumnTransformer\n",
    "from sklearn.linear_model import LogisticRegression\n",
    "from sklearn.naive_bayes import GaussianNB\n",
    "from sklearn.neighbors import KNeighborsClassifier\n",
    "from sklearn.svm import SVC\n",
    "from sklearn.decomposition import TruncatedSVD\n",
    "\n",
    "# DL \n",
    "from tensorflow.keras.models import Model\n",
    "from tensorflow.keras.layers import Activation, LSTM, Dense\n",
    "\n",
    "from tqdm import tqdm\n",
    "import nltk\n",
    "from functools import partial\n",
    "import string\n",
    "\n",
    "plt.style.use('fivethirtyeight')\n",
    "%matplotlib inline"
   ]
  },
  {
   "cell_type": "markdown",
   "metadata": {},
   "source": [
    "\n",
    "## Data Import"
   ]
  },
  {
   "cell_type": "code",
   "execution_count": 2,
   "metadata": {},
   "outputs": [],
   "source": [
    "df = pd.read_csv('train.csv')"
   ]
  },
  {
   "cell_type": "code",
   "execution_count": 3,
   "metadata": {},
   "outputs": [
    {
     "data": {
      "text/html": [
       "<div>\n",
       "<style scoped>\n",
       "    .dataframe tbody tr th:only-of-type {\n",
       "        vertical-align: middle;\n",
       "    }\n",
       "\n",
       "    .dataframe tbody tr th {\n",
       "        vertical-align: top;\n",
       "    }\n",
       "\n",
       "    .dataframe thead th {\n",
       "        text-align: right;\n",
       "    }\n",
       "</style>\n",
       "<table border=\"1\" class=\"dataframe\">\n",
       "  <thead>\n",
       "    <tr style=\"text-align: right;\">\n",
       "      <th></th>\n",
       "      <th>qid</th>\n",
       "      <th>question_text</th>\n",
       "      <th>target</th>\n",
       "    </tr>\n",
       "  </thead>\n",
       "  <tbody>\n",
       "    <tr>\n",
       "      <th>0</th>\n",
       "      <td>00002165364db923c7e6</td>\n",
       "      <td>How did Quebec nationalists see their province...</td>\n",
       "      <td>0</td>\n",
       "    </tr>\n",
       "    <tr>\n",
       "      <th>1</th>\n",
       "      <td>000032939017120e6e44</td>\n",
       "      <td>Do you have an adopted dog, how would you enco...</td>\n",
       "      <td>0</td>\n",
       "    </tr>\n",
       "    <tr>\n",
       "      <th>2</th>\n",
       "      <td>0000412ca6e4628ce2cf</td>\n",
       "      <td>Why does velocity affect time? Does velocity a...</td>\n",
       "      <td>0</td>\n",
       "    </tr>\n",
       "    <tr>\n",
       "      <th>3</th>\n",
       "      <td>000042bf85aa498cd78e</td>\n",
       "      <td>How did Otto von Guericke used the Magdeburg h...</td>\n",
       "      <td>0</td>\n",
       "    </tr>\n",
       "    <tr>\n",
       "      <th>4</th>\n",
       "      <td>0000455dfa3e01eae3af</td>\n",
       "      <td>Can I convert montra helicon D to a mountain b...</td>\n",
       "      <td>0</td>\n",
       "    </tr>\n",
       "  </tbody>\n",
       "</table>\n",
       "</div>"
      ],
      "text/plain": [
       "                    qid                                      question_text  \\\n",
       "0  00002165364db923c7e6  How did Quebec nationalists see their province...   \n",
       "1  000032939017120e6e44  Do you have an adopted dog, how would you enco...   \n",
       "2  0000412ca6e4628ce2cf  Why does velocity affect time? Does velocity a...   \n",
       "3  000042bf85aa498cd78e  How did Otto von Guericke used the Magdeburg h...   \n",
       "4  0000455dfa3e01eae3af  Can I convert montra helicon D to a mountain b...   \n",
       "\n",
       "   target  \n",
       "0       0  \n",
       "1       0  \n",
       "2       0  \n",
       "3       0  \n",
       "4       0  "
      ]
     },
     "execution_count": 3,
     "metadata": {},
     "output_type": "execute_result"
    }
   ],
   "source": [
    "df.head()"
   ]
  },
  {
   "cell_type": "code",
   "execution_count": 4,
   "metadata": {
    "scrolled": true
   },
   "outputs": [
    {
     "name": "stdout",
     "output_type": "stream",
     "text": [
      "rows: 1306122, columns: 3\n"
     ]
    }
   ],
   "source": [
    "print(\"rows: {}, columns: {}\".format(*df.shape))"
   ]
  },
  {
   "cell_type": "code",
   "execution_count": 5,
   "metadata": {},
   "outputs": [
    {
     "name": "stdout",
     "output_type": "stream",
     "text": [
      "There are 0 missing values\n"
     ]
    }
   ],
   "source": [
    "print(\"There are {} missing values\".format(df.isnull().sum().sum()))"
   ]
  },
  {
   "cell_type": "code",
   "execution_count": 6,
   "metadata": {
    "scrolled": true
   },
   "outputs": [
    {
     "name": "stdout",
     "output_type": "stream",
     "text": [
      "Unique targets: [0 1]\n"
     ]
    }
   ],
   "source": [
    "print(\"Unique targets: {}\".format(df['target'].unique()))"
   ]
  },
  {
   "cell_type": "code",
   "execution_count": 7,
   "metadata": {},
   "outputs": [
    {
     "name": "stdout",
     "output_type": "stream",
     "text": [
      "Is every ID unique? : True\n"
     ]
    }
   ],
   "source": [
    "# Every ID is unique!\n",
    "print(\"Is every ID unique? :\", len(df['qid'].unique()) == df.shape[0])"
   ]
  },
  {
   "cell_type": "markdown",
   "metadata": {},
   "source": [
    "<br>\n",
    "\n",
    "## Exploratory Data Anaylsis \n",
    "\n",
    "### First, see the examples of each class"
   ]
  },
  {
   "cell_type": "code",
   "execution_count": 8,
   "metadata": {},
   "outputs": [
    {
     "data": {
      "text/html": [
       "<div>\n",
       "<style scoped>\n",
       "    .dataframe tbody tr th:only-of-type {\n",
       "        vertical-align: middle;\n",
       "    }\n",
       "\n",
       "    .dataframe tbody tr th {\n",
       "        vertical-align: top;\n",
       "    }\n",
       "\n",
       "    .dataframe thead th {\n",
       "        text-align: right;\n",
       "    }\n",
       "</style>\n",
       "<table border=\"1\" class=\"dataframe\">\n",
       "  <thead>\n",
       "    <tr style=\"text-align: right;\">\n",
       "      <th></th>\n",
       "      <th>qid</th>\n",
       "      <th>question_text</th>\n",
       "      <th>target</th>\n",
       "    </tr>\n",
       "  </thead>\n",
       "  <tbody>\n",
       "    <tr>\n",
       "      <th>1169968</th>\n",
       "      <td>e5465e209c20de7dd56b</td>\n",
       "      <td>Why does the majority of Americans feel uneducated and less intellectual?</td>\n",
       "      <td>1</td>\n",
       "    </tr>\n",
       "    <tr>\n",
       "      <th>312777</th>\n",
       "      <td>3d47177042b321124f5e</td>\n",
       "      <td>Which are your best colors for 4x8, corrugated plastic sheets?</td>\n",
       "      <td>1</td>\n",
       "    </tr>\n",
       "    <tr>\n",
       "      <th>489290</th>\n",
       "      <td>5fd4317e1e51c6c7bdc7</td>\n",
       "      <td>Do Chinese people eat mercury thinking it is a kind of elixir?</td>\n",
       "      <td>1</td>\n",
       "    </tr>\n",
       "    <tr>\n",
       "      <th>591720</th>\n",
       "      <td>73e5e93f54b9afa87e71</td>\n",
       "      <td>Did George W. Bush really have a gay affair with Barack Obama?</td>\n",
       "      <td>1</td>\n",
       "    </tr>\n",
       "    <tr>\n",
       "      <th>1193267</th>\n",
       "      <td>e9dcd245282dfa716298</td>\n",
       "      <td>How had ISIS boosted Tatiana Estévez' subjective sex-life with her fetish for murderously exploi...</td>\n",
       "      <td>1</td>\n",
       "    </tr>\n",
       "    <tr>\n",
       "      <th>800092</th>\n",
       "      <td>9cc67b22c0a18c64cbd3</td>\n",
       "      <td>California residents are upset because the Trump sons shot and killed two endangered species on ...</td>\n",
       "      <td>1</td>\n",
       "    </tr>\n",
       "    <tr>\n",
       "      <th>1252138</th>\n",
       "      <td>f55f533e103119f302ee</td>\n",
       "      <td>Scientifically speaking, is Donald the missing link?</td>\n",
       "      <td>1</td>\n",
       "    </tr>\n",
       "    <tr>\n",
       "      <th>646891</th>\n",
       "      <td>7eb119700364d0443d15</td>\n",
       "      <td>What is the average intelligence (average IQ, test scores, any calculated metric) of the average...</td>\n",
       "      <td>1</td>\n",
       "    </tr>\n",
       "    <tr>\n",
       "      <th>985011</th>\n",
       "      <td>c0fc56cbe82205baaa3b</td>\n",
       "      <td>Is Trump the Evangelical Pope?</td>\n",
       "      <td>1</td>\n",
       "    </tr>\n",
       "    <tr>\n",
       "      <th>1215817</th>\n",
       "      <td>ee47a47fda08520fad4e</td>\n",
       "      <td>Why can’t some leftists grasp basic economics?</td>\n",
       "      <td>1</td>\n",
       "    </tr>\n",
       "  </tbody>\n",
       "</table>\n",
       "</div>"
      ],
      "text/plain": [
       "                          qid  \\\n",
       "1169968  e5465e209c20de7dd56b   \n",
       "312777   3d47177042b321124f5e   \n",
       "489290   5fd4317e1e51c6c7bdc7   \n",
       "591720   73e5e93f54b9afa87e71   \n",
       "1193267  e9dcd245282dfa716298   \n",
       "800092   9cc67b22c0a18c64cbd3   \n",
       "1252138  f55f533e103119f302ee   \n",
       "646891   7eb119700364d0443d15   \n",
       "985011   c0fc56cbe82205baaa3b   \n",
       "1215817  ee47a47fda08520fad4e   \n",
       "\n",
       "                                                                                               question_text  \\\n",
       "1169968                            Why does the majority of Americans feel uneducated and less intellectual?   \n",
       "312777                                        Which are your best colors for 4x8, corrugated plastic sheets?   \n",
       "489290                                        Do Chinese people eat mercury thinking it is a kind of elixir?   \n",
       "591720                                        Did George W. Bush really have a gay affair with Barack Obama?   \n",
       "1193267  How had ISIS boosted Tatiana Estévez' subjective sex-life with her fetish for murderously exploi...   \n",
       "800092   California residents are upset because the Trump sons shot and killed two endangered species on ...   \n",
       "1252138                                                 Scientifically speaking, is Donald the missing link?   \n",
       "646891   What is the average intelligence (average IQ, test scores, any calculated metric) of the average...   \n",
       "985011                                                                        Is Trump the Evangelical Pope?   \n",
       "1215817                                                       Why can’t some leftists grasp basic economics?   \n",
       "\n",
       "         target  \n",
       "1169968       1  \n",
       "312777        1  \n",
       "489290        1  \n",
       "591720        1  \n",
       "1193267       1  \n",
       "800092        1  \n",
       "1252138       1  \n",
       "646891        1  \n",
       "985011        1  \n",
       "1215817       1  "
      ]
     },
     "execution_count": 8,
     "metadata": {},
     "output_type": "execute_result"
    }
   ],
   "source": [
    "# Examples of insincere texts\n",
    "pd.options.display.max_colwidth = 100\n",
    "df[df['target']==1].sample(10)"
   ]
  },
  {
   "cell_type": "code",
   "execution_count": 9,
   "metadata": {},
   "outputs": [
    {
     "data": {
      "text/html": [
       "<div>\n",
       "<style scoped>\n",
       "    .dataframe tbody tr th:only-of-type {\n",
       "        vertical-align: middle;\n",
       "    }\n",
       "\n",
       "    .dataframe tbody tr th {\n",
       "        vertical-align: top;\n",
       "    }\n",
       "\n",
       "    .dataframe thead th {\n",
       "        text-align: right;\n",
       "    }\n",
       "</style>\n",
       "<table border=\"1\" class=\"dataframe\">\n",
       "  <thead>\n",
       "    <tr style=\"text-align: right;\">\n",
       "      <th></th>\n",
       "      <th>qid</th>\n",
       "      <th>question_text</th>\n",
       "      <th>target</th>\n",
       "    </tr>\n",
       "  </thead>\n",
       "  <tbody>\n",
       "    <tr>\n",
       "      <th>167412</th>\n",
       "      <td>20b6966f88e26799c75f</td>\n",
       "      <td>Does Any college give addmission in bsc post nursing in month of october?</td>\n",
       "      <td>0</td>\n",
       "    </tr>\n",
       "    <tr>\n",
       "      <th>297742</th>\n",
       "      <td>3a4ab14ffbb3c8f2f37f</td>\n",
       "      <td>What are the chances of nerve damage from wisdom teeth removal?</td>\n",
       "      <td>0</td>\n",
       "    </tr>\n",
       "    <tr>\n",
       "      <th>368362</th>\n",
       "      <td>4837b2837b990d3ae6c7</td>\n",
       "      <td>When is a good time to introduce a girlfriend to kids of separated parents?</td>\n",
       "      <td>0</td>\n",
       "    </tr>\n",
       "    <tr>\n",
       "      <th>424757</th>\n",
       "      <td>53427dd29a9d424e50bf</td>\n",
       "      <td>There seems to be a recurring fascination in Western English speaking culture with sisters. Are ...</td>\n",
       "      <td>0</td>\n",
       "    </tr>\n",
       "    <tr>\n",
       "      <th>865571</th>\n",
       "      <td>a99749bb91cc1fa450a9</td>\n",
       "      <td>Should the Mongolian alphabet have been latinized rather than cyrillicized?</td>\n",
       "      <td>0</td>\n",
       "    </tr>\n",
       "    <tr>\n",
       "      <th>982381</th>\n",
       "      <td>c075a366e05f14fe429a</td>\n",
       "      <td>Where do I sell my old and used Business Equipment in US?</td>\n",
       "      <td>0</td>\n",
       "    </tr>\n",
       "    <tr>\n",
       "      <th>679512</th>\n",
       "      <td>8514edd2a425a69bcb4b</td>\n",
       "      <td>Is it better to leave someone unaware of their impending annihilation?</td>\n",
       "      <td>0</td>\n",
       "    </tr>\n",
       "    <tr>\n",
       "      <th>554807</th>\n",
       "      <td>6cb436c337a27d27a07b</td>\n",
       "      <td>What is the legal process for a startup?</td>\n",
       "      <td>0</td>\n",
       "    </tr>\n",
       "    <tr>\n",
       "      <th>499579</th>\n",
       "      <td>61ce4c84912917ad646d</td>\n",
       "      <td>How do I declutter my life if I'm in high school?</td>\n",
       "      <td>0</td>\n",
       "    </tr>\n",
       "    <tr>\n",
       "      <th>713403</th>\n",
       "      <td>8ba5ae1325e47c1d72c1</td>\n",
       "      <td>Where would we find part time jobs?</td>\n",
       "      <td>0</td>\n",
       "    </tr>\n",
       "  </tbody>\n",
       "</table>\n",
       "</div>"
      ],
      "text/plain": [
       "                         qid  \\\n",
       "167412  20b6966f88e26799c75f   \n",
       "297742  3a4ab14ffbb3c8f2f37f   \n",
       "368362  4837b2837b990d3ae6c7   \n",
       "424757  53427dd29a9d424e50bf   \n",
       "865571  a99749bb91cc1fa450a9   \n",
       "982381  c075a366e05f14fe429a   \n",
       "679512  8514edd2a425a69bcb4b   \n",
       "554807  6cb436c337a27d27a07b   \n",
       "499579  61ce4c84912917ad646d   \n",
       "713403  8ba5ae1325e47c1d72c1   \n",
       "\n",
       "                                                                                              question_text  \\\n",
       "167412                            Does Any college give addmission in bsc post nursing in month of october?   \n",
       "297742                                      What are the chances of nerve damage from wisdom teeth removal?   \n",
       "368362                          When is a good time to introduce a girlfriend to kids of separated parents?   \n",
       "424757  There seems to be a recurring fascination in Western English speaking culture with sisters. Are ...   \n",
       "865571                          Should the Mongolian alphabet have been latinized rather than cyrillicized?   \n",
       "982381                                            Where do I sell my old and used Business Equipment in US?   \n",
       "679512                               Is it better to leave someone unaware of their impending annihilation?   \n",
       "554807                                                             What is the legal process for a startup?   \n",
       "499579                                                    How do I declutter my life if I'm in high school?   \n",
       "713403                                                                  Where would we find part time jobs?   \n",
       "\n",
       "        target  \n",
       "167412       0  \n",
       "297742       0  \n",
       "368362       0  \n",
       "424757       0  \n",
       "865571       0  \n",
       "982381       0  \n",
       "679512       0  \n",
       "554807       0  \n",
       "499579       0  \n",
       "713403       0  "
      ]
     },
     "execution_count": 9,
     "metadata": {},
     "output_type": "execute_result"
    }
   ],
   "source": [
    "# Examples of sincere texts\n",
    "df[df['target']==0].sample(10)"
   ]
  },
  {
   "cell_type": "markdown",
   "metadata": {},
   "source": [
    "## 1. Proportion of target class?\n",
    "## 2. Average lengths of the text of each class?\n",
    "\n",
    "### Findings\n",
    "\n",
    "- There is severe imbalance detected in the target class. This imbalance makes the evaluation and training of classifiers far harder. For example, the accuracy metrics is not a precise representation of the performance anymore. A classifier will always lean toward the majority class to get better accuracy."
   ]
  },
  {
   "cell_type": "code",
   "execution_count": 42,
   "metadata": {},
   "outputs": [
    {
     "data": {
      "image/png": "[encoded data removed]",
      "text/plain": [
       "<Figure size 1152x648 with 2 Axes>"
      ]
     },
     "metadata": {
      "needs_background": "light"
     },
     "output_type": "display_data"
    }
   ],
   "source": [
    "plt.rcParams['font.size'] = 18\n",
    "fig, (ax1, ax2) = plt.subplots(1, 2, figsize=(16, 9))\n",
    "labels=['Sincere', 'Insincere']\n",
    "colors = [\"#3791D7\", \"#D72626\"]\n",
    "df[\"target\"].value_counts().plot.pie(explode=[0,0.25], autopct='%1.2f%%', \n",
    "                                             shadow=True, colors=colors, ax=ax1,\n",
    "                                             labels=labels, startangle=70)\n",
    "\n",
    "df['text_len'] = df['question_text'].map(len)\n",
    "text_len_compare = df.groupby(['target'])['text_len'].mean()\n",
    "text_len_compare.index=labels\n",
    "text_len_compare.plot.bar(ax=ax2, color=['#A291DA', '#CAC011'], rot=0)\n",
    "\n",
    "ax1.set_title('Proportion of Target Class')\n",
    "ax2.set_title('Mean Length of Text')\n",
    "plt.show()"
   ]
  },
  {
   "cell_type": "markdown",
   "metadata": {},
   "source": [
    "# Empirical distribution of average text lengths\n",
    "\n",
    "### Findings\n",
    "\n",
    "- Mean text lengths could be a good indicator for distinguishing insincere questions from sincere questions. There is clear difference in there distribution and characteristic."
   ]
  },
  {
   "cell_type": "code",
   "execution_count": 43,
   "metadata": {},
   "outputs": [
    {
     "data": {
      "image/png": "[encoded data removed]",
      "text/plain": [
       "<Figure size 1152x288 with 1 Axes>"
      ]
     },
     "metadata": {
      "needs_background": "light"
     },
     "output_type": "display_data"
    }
   ],
   "source": [
    "insincere = df[df['target']==1]\n",
    "sincere = df[df['target']==0]\n",
    "\n",
    "plt.figure(figsize=(16,4))\n",
    "sns.distplot(sincere['text_len'], label='sincere')\n",
    "sns.distplot(insincere['text_len'], label='insincere')\n",
    "\n",
    "plt.legend()\n",
    "plt.xlim(-1, 300)\n",
    "plt.title('empirical distribution of text lengths in each class')\n",
    "plt.show()"
   ]
  },
  {
   "cell_type": "markdown",
   "metadata": {},
   "source": [
    "<br>\n",
    "\n",
    "## What are the most common words in 'sincere' class? - best, good, learn, etc."
   ]
  },
  {
   "cell_type": "code",
   "execution_count": null,
   "metadata": {},
   "outputs": [],
   "source": [
    "def tokenize(txt):\n",
    "\n",
    "    def tokenize(s): \n",
    "        re_tok = re.compile(f'([{string.punctuation}“”¨«»®´·º½¾¿¡§£₤‘’])')\n",
    "        return re_tok.sub(r' ', s).split()\n",
    "    \n",
    "    token_txt = tokenize(txt)\n",
    "    stops = set(nltk.corpus.stopwords.words('english'))\n",
    "    stemmer = nltk.stem.SnowballStemmer('english')\n",
    "    return [stemmer.stem(token) for token in token_txt if token not in stops]\n",
    "    \n",
    "    \n",
    "def count_word(txt, count_dict):\n",
    "    clean_txt = tokenize(txt)\n",
    "    for word in clean_txt:\n",
    "        count_dict[word] = count_dict.get(word, 0) + 1\n",
    "    \n",
    "sincere_word_counter = {}\n",
    "sincere['question_text'].map(partial(count_word, count_dict=sincere_word_counter))"
   ]
  },
  {
   "cell_type": "code",
   "execution_count": 37,
   "metadata": {},
   "outputs": [
    {
     "data": {
      "text/html": [
       "<div>\n",
       "<style scoped>\n",
       "    .dataframe tbody tr th:only-of-type {\n",
       "        vertical-align: middle;\n",
       "    }\n",
       "\n",
       "    .dataframe tbody tr th {\n",
       "        vertical-align: top;\n",
       "    }\n",
       "\n",
       "    .dataframe thead th {\n",
       "        text-align: right;\n",
       "    }\n",
       "</style>\n",
       "<table border=\"1\" class=\"dataframe\">\n",
       "  <thead>\n",
       "    <tr style=\"text-align: right;\">\n",
       "      <th></th>\n",
       "      <th>rank_1</th>\n",
       "      <th>rank_2</th>\n",
       "      <th>rank_3</th>\n",
       "      <th>rank_4</th>\n",
       "      <th>rank_5</th>\n",
       "    </tr>\n",
       "  </thead>\n",
       "  <tbody>\n",
       "    <tr>\n",
       "      <th>0</th>\n",
       "      <td>what</td>\n",
       "      <td>use</td>\n",
       "      <td>year</td>\n",
       "      <td>life</td>\n",
       "      <td>becom</td>\n",
       "    </tr>\n",
       "    <tr>\n",
       "      <th>1</th>\n",
       "      <td>i</td>\n",
       "      <td>which</td>\n",
       "      <td>time</td>\n",
       "      <td>doe</td>\n",
       "      <td>mean</td>\n",
       "    </tr>\n",
       "    <tr>\n",
       "      <th>2</th>\n",
       "      <td>how</td>\n",
       "      <td>peopl</td>\n",
       "      <td>way</td>\n",
       "      <td>much</td>\n",
       "      <td>job</td>\n",
       "    </tr>\n",
       "    <tr>\n",
       "      <th>3</th>\n",
       "      <td>whi</td>\n",
       "      <td>good</td>\n",
       "      <td>work</td>\n",
       "      <td>go</td>\n",
       "      <td>thing</td>\n",
       "    </tr>\n",
       "    <tr>\n",
       "      <th>4</th>\n",
       "      <td>is</td>\n",
       "      <td>make</td>\n",
       "      <td>think</td>\n",
       "      <td>mani</td>\n",
       "      <td>engin</td>\n",
       "    </tr>\n",
       "    <tr>\n",
       "      <th>5</th>\n",
       "      <td>get</td>\n",
       "      <td>do</td>\n",
       "      <td>are</td>\n",
       "      <td>want</td>\n",
       "      <td>learn</td>\n",
       "    </tr>\n",
       "    <tr>\n",
       "      <th>6</th>\n",
       "      <td>best</td>\n",
       "      <td>one</td>\n",
       "      <td>take</td>\n",
       "      <td>know</td>\n",
       "      <td>find</td>\n",
       "    </tr>\n",
       "    <tr>\n",
       "      <th>7</th>\n",
       "      <td>would</td>\n",
       "      <td>if</td>\n",
       "      <td>someon</td>\n",
       "      <td>feel</td>\n",
       "      <td>happen</td>\n",
       "    </tr>\n",
       "    <tr>\n",
       "      <th>8</th>\n",
       "      <td>can</td>\n",
       "      <td>india</td>\n",
       "      <td>person</td>\n",
       "      <td>where</td>\n",
       "      <td>book</td>\n",
       "    </tr>\n",
       "    <tr>\n",
       "      <th>9</th>\n",
       "      <td>like</td>\n",
       "      <td>differ</td>\n",
       "      <td>who</td>\n",
       "      <td>start</td>\n",
       "      <td>ever</td>\n",
       "    </tr>\n",
       "  </tbody>\n",
       "</table>\n",
       "</div>"
      ],
      "text/plain": [
       "  rank_1  rank_2  rank_3 rank_4  rank_5\n",
       "0   what     use    year   life   becom\n",
       "1      i   which    time    doe    mean\n",
       "2    how   peopl     way   much     job\n",
       "3    whi    good    work     go   thing\n",
       "4     is    make   think   mani   engin\n",
       "5    get      do     are   want   learn\n",
       "6   best     one    take   know    find\n",
       "7  would      if  someon   feel  happen\n",
       "8    can   india  person  where    book\n",
       "9   like  differ     who  start    ever"
      ]
     },
     "execution_count": 37,
     "metadata": {},
     "output_type": "execute_result"
    }
   ],
   "source": [
    "sorted_sincere_counter = sorted(sincere_word_counter.items(), key = lambda x: x[1], reverse=True)[:50]\n",
    "printing = [row[0] for row in sorted_sincere_counter]\n",
    "\n",
    "table_sincere = pd.DataFrame({'rank_1': printing[:10], 'rank_2':printing[10:20], 'rank_3':printing[20:30],\n",
    "                             'rank_4':printing[30:40], 'rank_5':printing[40:50]})\n",
    "table_sincere"
   ]
  },
  {
   "cell_type": "markdown",
   "metadata": {},
   "source": [
    "<br>\n",
    "\n",
    "## What are the most common words in 'insincere' class? - trump, muslim, sex, etc."
   ]
  },
  {
   "cell_type": "code",
   "execution_count": null,
   "metadata": {},
   "outputs": [],
   "source": [
    "insincere_word_counter = {}\n",
    "insincere['question_text'].map(partial(count_word, count_dict=insincere_word_counter))"
   ]
  },
  {
   "cell_type": "code",
   "execution_count": 40,
   "metadata": {
    "scrolled": true
   },
   "outputs": [
    {
     "data": {
      "text/html": [
       "<div>\n",
       "<style scoped>\n",
       "    .dataframe tbody tr th:only-of-type {\n",
       "        vertical-align: middle;\n",
       "    }\n",
       "\n",
       "    .dataframe tbody tr th {\n",
       "        vertical-align: top;\n",
       "    }\n",
       "\n",
       "    .dataframe thead th {\n",
       "        text-align: right;\n",
       "    }\n",
       "</style>\n",
       "<table border=\"1\" class=\"dataframe\">\n",
       "  <thead>\n",
       "    <tr style=\"text-align: right;\">\n",
       "      <th></th>\n",
       "      <th>rank_1</th>\n",
       "      <th>rank_2</th>\n",
       "      <th>rank_3</th>\n",
       "      <th>rank_4</th>\n",
       "      <th>rank_5</th>\n",
       "    </tr>\n",
       "  </thead>\n",
       "  <tbody>\n",
       "    <tr>\n",
       "      <th>0</th>\n",
       "      <td>whi</td>\n",
       "      <td>do</td>\n",
       "      <td>black</td>\n",
       "      <td>hate</td>\n",
       "      <td>christian</td>\n",
       "    </tr>\n",
       "    <tr>\n",
       "      <th>1</th>\n",
       "      <td>peopl</td>\n",
       "      <td>muslim</td>\n",
       "      <td>mani</td>\n",
       "      <td>sex</td>\n",
       "      <td>right</td>\n",
       "    </tr>\n",
       "    <tr>\n",
       "      <th>2</th>\n",
       "      <td>i</td>\n",
       "      <td>american</td>\n",
       "      <td>girl</td>\n",
       "      <td>world</td>\n",
       "      <td>much</td>\n",
       "    </tr>\n",
       "    <tr>\n",
       "      <th>3</th>\n",
       "      <td>is</td>\n",
       "      <td>are</td>\n",
       "      <td>quora</td>\n",
       "      <td>say</td>\n",
       "      <td>democrat</td>\n",
       "    </tr>\n",
       "    <tr>\n",
       "      <th>4</th>\n",
       "      <td>how</td>\n",
       "      <td>white</td>\n",
       "      <td>countri</td>\n",
       "      <td>one</td>\n",
       "      <td>feel</td>\n",
       "    </tr>\n",
       "    <tr>\n",
       "      <th>5</th>\n",
       "      <td>trump</td>\n",
       "      <td>think</td>\n",
       "      <td>india</td>\n",
       "      <td>question</td>\n",
       "      <td>know</td>\n",
       "    </tr>\n",
       "    <tr>\n",
       "      <th>6</th>\n",
       "      <td>what</td>\n",
       "      <td>men</td>\n",
       "      <td>want</td>\n",
       "      <td>chines</td>\n",
       "      <td>go</td>\n",
       "    </tr>\n",
       "    <tr>\n",
       "      <th>7</th>\n",
       "      <td>like</td>\n",
       "      <td>would</td>\n",
       "      <td>liber</td>\n",
       "      <td>support</td>\n",
       "      <td>use</td>\n",
       "    </tr>\n",
       "    <tr>\n",
       "      <th>8</th>\n",
       "      <td>women</td>\n",
       "      <td>get</td>\n",
       "      <td>us</td>\n",
       "      <td>year</td>\n",
       "      <td>even</td>\n",
       "    </tr>\n",
       "    <tr>\n",
       "      <th>9</th>\n",
       "      <td>indian</td>\n",
       "      <td>if</td>\n",
       "      <td>make</td>\n",
       "      <td>kill</td>\n",
       "      <td>believ</td>\n",
       "    </tr>\n",
       "  </tbody>\n",
       "</table>\n",
       "</div>"
      ],
      "text/plain": [
       "   rank_1    rank_2   rank_3    rank_4     rank_5\n",
       "0     whi        do    black      hate  christian\n",
       "1   peopl    muslim     mani       sex      right\n",
       "2       i  american     girl     world       much\n",
       "3      is       are    quora       say   democrat\n",
       "4     how     white  countri       one       feel\n",
       "5   trump     think    india  question       know\n",
       "6    what       men     want    chines         go\n",
       "7    like     would    liber   support        use\n",
       "8   women       get       us      year       even\n",
       "9  indian        if     make      kill     believ"
      ]
     },
     "execution_count": 40,
     "metadata": {},
     "output_type": "execute_result"
    }
   ],
   "source": [
    "sorted_insincere_counter = sorted(insincere_word_counter.items(), key = lambda x: x[1], reverse=True)[:50]\n",
    "printing = [row[0] for row in sorted_insincere_counter]\n",
    "\n",
    "table_insincere = pd.DataFrame({'rank_1': printing[:10], 'rank_2':printing[10:20], 'rank_3':printing[20:30],\n",
    "                             'rank_4':printing[30:40], 'rank_5':printing[40:50]})\n",
    "table_insincere"
   ]
  },
  {
   "cell_type": "markdown",
   "metadata": {},
   "source": [
    "### Findings\n",
    "\n",
    "- Interestingly, looking at the 50 most common words already reveal severe difference between sincere and insincere questions. Sincere questions contain plain and common English words such as 'best', 'good', or 'learn.' On the other hand, insincere questions contain racial, sexual and geographical references such as 'muslim', 'white' or 'sex.'\n",
    "- Ideally, following feature engineering steps should enable my models to learn those patterns for classification."
   ]
  },
  {
   "cell_type": "markdown",
   "metadata": {},
   "source": [
    "<br>\n",
    "\n",
    "# Feature Engineering\n",
    "\n",
    "### Approaches\n",
    "\n",
    "- Here, I suggest two bag-of-words algorithms for feature extraction. They have multiple hyper-parameters for each. The order of n-grams, maximum number of featrues, or minimum frequencies should be searched over to identify the most informative input features.\n",
    "- Three feature selectors are suggested. Each of them has its own statistical meaning."
   ]
  },
  {
   "cell_type": "code",
   "execution_count": 11,
   "metadata": {},
   "outputs": [],
   "source": [
    "# Tokenize\n",
    "def preprocessing(titles):\n",
    "    num_titles = titles.size\n",
    "    \n",
    "    clean_titles = []\n",
    "    \n",
    "    stops = set(stopwords.words(\"english\"))\n",
    "    \n",
    "    for i in range(0, num_titles):\n",
    "        #letters_only = re.sub(\"[^a-zA-Z]\", \" \", titles[i]) \n",
    "        words = titles[i].lower().split()\n",
    "        words = [w.lower() for w in words if not w in stops]  \n",
    "        clean_titles.append(\" \".join(words))\n",
    "        \n",
    "    return clean_titles\n",
    "\n",
    "# Tf-idf\n",
    "def tf_idf(titles, ngram_range=(1,1), max_df=0.99, min_df=3, norm='l2'):\n",
    "\n",
    "    tf_idf_vectorizer = TfidfVectorizer(ngram_range=ngram_range, \n",
    "                                        max_df=max_df, min_df=min_df, norm=norm)\n",
    "    vectors = tf_idf_vectorizer.fit_transform(titles)\n",
    "    \n",
    "    return vectors, tf_idf_vectorizer # This transformer will be used to vectorize test data again.\n",
    "\n",
    "# counter\n",
    "def count(titles, ngram_range=(1,1), max_df=0.99, min_df=3, max_features=None, binary=False):\n",
    "    \n",
    "    count_vectorizer = CountVectorizer(ngram_range=ngram_range, max_df=max_df, min_df=min_df,\n",
    "                                           max_features=max_features, binary=binary)\n",
    "    vectors = count_vectorizer.fit_transform(titles)\n",
    "    \n",
    "    return vectors, count_vectorizer"
   ]
  },
  {
   "cell_type": "code",
   "execution_count": 12,
   "metadata": {},
   "outputs": [],
   "source": [
    "# Feature Selection\n",
    "from sklearn.tree import DecisionTreeClassifier, tree\n",
    "from sklearn.feature_selection import SelectKBest, SelectFromModel, chi2\n",
    "from sklearn.preprocessing import Normalizer\n",
    "from sklearn.pipeline import make_pipeline\n",
    "\n",
    "\n",
    "def features_chi2(features, labels, n_features=5000):\n",
    "    chi2_model = SelectKBest(chi2, k=n_features)\n",
    "    new_features = chi2_model.fit_transform(features, labels)\n",
    "    return new_features, chi2_model\n",
    "\n",
    "def features_information_gain(features, labels, max_features=1000):\n",
    "    tree_clf = tree.DecisionTreeClassifier(criterion=\"entropy\", max_features=max_features)\n",
    "    tree_clf = tree_clf.fit(features, labels)\n",
    "    inf_gain = SelectFromModel(tree_clf, prefit=True)\n",
    "    new_features = inf_gain.transform(features)\n",
    "    return new_features, inf_gain\n",
    "    \n",
    "def features_lsa(features,n_components=100):\n",
    "    svd = TruncatedSVD(n_components=n_components)\n",
    "    normalizer =  Normalizer(copy=False)\n",
    "    lsa = make_pipeline(svd, normalizer)\n",
    "    new_features = lsa.fit_transform(features)\n",
    "    return new_features, lsa"
   ]
  },
  {
   "cell_type": "code",
   "execution_count": 13,
   "metadata": {},
   "outputs": [],
   "source": [
    "vectors, tf_idf_vectorizer = tf_idf(df['question_text'].values, ngram_range=(1,1), max_df=0.99, min_df=3, norm='l2')\n",
    "#vectors, counter_vectorizer = counter(df['question_text'].values, ngram_range=(1,1), max_df=1.0, min_df=1)b"
   ]
  },
  {
   "cell_type": "code",
   "execution_count": 16,
   "metadata": {},
   "outputs": [],
   "source": [
    "labels = df['target'].values.reshape(-1, 1)\n",
    "\n",
    "chi2_vec, chi2_model = features_chi2(vectors, labels, 150)\n",
    "ig_vec, ig_model = features_information_gain(vectors, labels, 150)\n",
    "lsa_vec, lsa_model = features_lsa(vectors, 150)"
   ]
  },
  {
   "cell_type": "markdown",
   "metadata": {},
   "source": [
    "## Word lengths segmentation\n",
    "\n",
    "### Approaches\n",
    "- As mentioned, the lenths of words can be a potential indicator for classification. I will segement the levels into three: 'short', 'medium' and 'long'\n",
    "- This ordinal categories are expected to give the model more inforamtion."
   ]
  },
  {
   "cell_type": "code",
   "execution_count": null,
   "metadata": {},
   "outputs": [],
   "source": [
    "levels = [0, 1, 2]\n",
    "bins = [0, 25, 85, float('inf')]\n",
    "\n",
    "word_len_category = pd.cut(df['text_len'], bins=bins, labels=levels).astype('int').values.reshape(-1, 1)\n",
    "\n",
    "chi2_vec_cat = np.concatenate([chi2_vec.toarray(), word_len_category], axis=1)\n",
    "ig_vec_cat = np.concatenate([ig_vec.toarray(), word_len_category], axis=1)\n",
    "lsa_vec_cat = np.concatenate([lsa_vec.toarray(), word_len_category], axis=1)"
   ]
  },
  {
   "cell_type": "markdown",
   "metadata": {},
   "source": [
    "### Stratified train and test set split"
   ]
  },
  {
   "cell_type": "code",
   "execution_count": 1,
   "metadata": {},
   "outputs": [],
   "source": [
    "from sklearn.model_selection import StratifiedShuffleSplit\n",
    "\n",
    "X_train, X_test, y_train, y_test = StratifiedShuffleSplit(X, labels, test_size=0.2, stratify=y)"
   ]
  },
  {
   "cell_type": "markdown",
   "metadata": {},
   "source": [
    "<br>\n",
    "\n",
    "## Trying Multiple Models\n",
    "\n",
    "## 1. Baseline: logistic regression\n",
    "\n",
    "#### What is happening? \n",
    "- Without cross-validation, \n",
    "\n",
    "\n",
    "#### Approaches"
   ]
  },
  {
   "cell_type": "code",
   "execution_count": 18,
   "metadata": {},
   "outputs": [
    {
     "ename": "NameError",
     "evalue": "name 'y' is not defined",
     "output_type": "error",
     "traceback": [
      "\u001b[0;31m---------------------------------------------------------------------------\u001b[0m",
      "\u001b[0;31mNameError\u001b[0m                                 Traceback (most recent call last)",
      "\u001b[0;32m<ipython-input-18-877b839ac282>\u001b[0m in \u001b[0;36m<module>\u001b[0;34m\u001b[0m\n\u001b[1;32m      1\u001b[0m \u001b[0moh\u001b[0m \u001b[0;34m=\u001b[0m \u001b[0mOneHotEncoder\u001b[0m\u001b[0;34m(\u001b[0m\u001b[0;34m)\u001b[0m\u001b[0;34m\u001b[0m\u001b[0;34m\u001b[0m\u001b[0m\n\u001b[0;32m----> 2\u001b[0;31m \u001b[0my_oh\u001b[0m \u001b[0;34m=\u001b[0m \u001b[0moh\u001b[0m\u001b[0;34m.\u001b[0m\u001b[0mfit_transform\u001b[0m\u001b[0;34m(\u001b[0m\u001b[0my\u001b[0m\u001b[0;34m.\u001b[0m\u001b[0mreshape\u001b[0m\u001b[0;34m(\u001b[0m\u001b[0;34m-\u001b[0m\u001b[0;36m1\u001b[0m\u001b[0;34m,\u001b[0m \u001b[0;36m1\u001b[0m\u001b[0;34m)\u001b[0m\u001b[0;34m)\u001b[0m\u001b[0;34m\u001b[0m\u001b[0;34m\u001b[0m\u001b[0m\n\u001b[0m\u001b[1;32m      3\u001b[0m \u001b[0my_label\u001b[0m \u001b[0;34m=\u001b[0m \u001b[0my_oh\u001b[0m\u001b[0;34m.\u001b[0m\u001b[0margmax\u001b[0m\u001b[0;34m(\u001b[0m\u001b[0maxis\u001b[0m\u001b[0;34m=\u001b[0m\u001b[0;36m1\u001b[0m\u001b[0;34m)\u001b[0m\u001b[0;34m\u001b[0m\u001b[0;34m\u001b[0m\u001b[0m\n",
      "\u001b[0;31mNameError\u001b[0m: name 'y' is not defined"
     ]
    }
   ],
   "source": [
    "# Initial Modeling\n",
    "# Stratified Cross-validation\n",
    "kfold = StratifiedKFold(n_splits=3, random_state=42)\n",
    "lr = LogisticRegression()\n",
    "\n",
    "# Evaluate\n",
    "vec_names = ['Chi2', 'IG', \"LSA\"]\n",
    "\n",
    "# Fit the model\n",
    "for i, vec in enumerate([chi2_vec_cat, ig_vec_cat, lsa_vec_cat]):\n",
    "    test_val = cross_validate(lr, vec, labels, scoring=['accuracy', 'precision', 'recall', 'f1'], cv=kfold)\n",
    "    \n",
    "    accuracy = round(test_val['test_accuracy'].mean(), 3)\n",
    "    precision = round(test_val['test_precision'].mean(), 3)\n",
    "    recall = round(test_val['test_recall'].mean(), 3)\n",
    "    fscore = round(test_val['test_f1'].mean(), 3)\n",
    "    \n",
    "    print(vec_names[i], \"Logistic\", \"- accuracy{0}, precision: {1}, recall: {2}, fscore: {3}\"\\\n",
    "          .format(accuracy, precision, recall, fscore))"
   ]
  },
  {
   "cell_type": "markdown",
   "metadata": {},
   "source": [
    "<br>\n",
    "\n",
    "## 2. Cross-Validation: Closer Look into Bias & Variance Trade-Off\n",
    "\n",
    "** Differences **\n",
    "\n",
    "** Accuracy metrics can be misleading **"
   ]
  },
  {
   "cell_type": "code",
   "execution_count": null,
   "metadata": {},
   "outputs": [],
   "source": [
    "# Evaluation\n",
    "def custom_cross_validate(text_matrix, labels, classifier=\"SVM\", n_splits=10):\n",
    "    clf = None\n",
    "    precision = []\n",
    "    recall = []\n",
    "    fscore = []\n",
    "    \n",
    "    if classifier == \"RF\":\n",
    "        clf = RandomForestClassifier()\n",
    "    elif classifier == \"NB\":\n",
    "        clf = MultinomialNB()\n",
    "    elif classifier == \"SVM\":\n",
    "        clf = LinearSVC()\n",
    "    elif classifier == \"XGB\":\n",
    "        clf = XGBClassifier()\n",
    "    elif classifier == \"KNN\":\n",
    "        clf = KNeighborsClassifier()\n",
    "        \n",
    "    skf = StratifiedKFold(n_splits=n_splits)\n",
    "\n",
    "    for train_index, test_index in skf.split(X=np.zeros(len(labels)), y=labels):\n",
    "        clone_clf = clone(clf)\n",
    "        X_train, X_test = text_matrix[train_index], text_matrix[test_index]\n",
    "        y_train, y_test = labels[train_index], labels[test_index]\n",
    "        clone_clf.fit(X_train, y_train)\n",
    "        \n",
    "        y_pred = clone_clf.predict(X_test)\n",
    "        p,r,f,s = precision_recall_fscore_support(y_test, y_pred, average='weighted')\n",
    "        precision.append(p)\n",
    "        recall.append(r)\n",
    "        fscore.append(f)\n",
    "        \n",
    "    return round(np.mean(precision),3), round(np.mean(recall),3), round(np.mean(fscore),3)"
   ]
  },
  {
   "cell_type": "code",
   "execution_count": null,
   "metadata": {},
   "outputs": [],
   "source": [
    "kfold = StratifiedKFold(n_splits=3)\n",
    "\n",
    "acc_cross = {}\n",
    "for i, pred in enumerate(short_predictors):\n",
    "    acc_temp = cross_val_score(pred, short_X_train, np.array(short_y_train).ravel(), scoring='f1_micro', \n",
    "                               cv=kfold, n_jobs=-1)\n",
    "    acc_cross['{}'.format(names[i])] = acc_temp.mean()\n",
    "    "
   ]
  },
  {
   "cell_type": "code",
   "execution_count": null,
   "metadata": {},
   "outputs": [],
   "source": [
    "for key, val in acc_cross.items():\n",
    "    print(f\"{key} : {val}\")"
   ]
  },
  {
   "cell_type": "code",
   "execution_count": null,
   "metadata": {},
   "outputs": [],
   "source": [
    "plt.rcParams['font.size'] = 18\n",
    "plt.figure(figsize=(14, 5))\n",
    "sns.barplot(short_pred_names, list(acc_cross.values()))\n",
    "plt.show()"
   ]
  },
  {
   "cell_type": "markdown",
   "metadata": {},
   "source": [
    "<br>\n",
    "\n",
    "## 3. Learning Curve - Performance vs. Number of Training Samples\n",
    "\n",
    "** Approaches **\n",
    "\n",
    "** Findings **"
   ]
  },
  {
   "cell_type": "code",
   "execution_count": null,
   "metadata": {},
   "outputs": [],
   "source": [
    "def call_plot(xaxis, train_scores, test_scores, name_pred, name_param):\n",
    "    train_scores_mean = train_scores.mean(axis=1)\n",
    "    test_scores_mean = test_scores.mean(axis=1)\n",
    "\n",
    "    train_scores_std = train_scores.std(axis=1)\n",
    "    test_scores_std = test_scores.std(axis=1)\n",
    "    \n",
    "    plt.rcParams['font.size'] = 12\n",
    "    plt.figure(figsize=(10,4))\n",
    "    plt.plot(xaxis, train_scores_mean, label='Train score')\n",
    "    plt.plot(xaxis, test_scores_mean, label='Test score')\n",
    "    plt.fill_between(xaxis, train_scores_mean - 3*train_scores_std,\n",
    "                train_scores_mean + 3*train_scores_std, alpha=0.15)\n",
    "    plt.fill_between(xaxis, test_scores_mean - 3*test_scores_std,\n",
    "                test_scores_mean + 3*test_scores_std, alpha=0.15)\n",
    "    plt.legend(fontsize=14)\n",
    "    plt.xlabel(name_param)\n",
    "    plt.ylabel('Accuracy')\n",
    "    plt.title(\"{} Accuracy vs. {}\".format(name_pred, name_param))\n",
    "    plt.show()\n",
    "    \n",
    "def plot_learning_curve(predictor, X, y, name_param, name_pred, cv=3):\n",
    "    train_sizes, train_scores, test_scores = learning_curve(predictor, X, y, cv=cv, scoring='f1_weighted')\n",
    "    call_plot(train_sizes, train_scores, test_scores, name_pred, name_param)\n",
    "    \n",
    "plot_learning_curve(RandomForestClassifier(), short_X_train, short_y_train, \"Training Samples\", \"Random Forest\")"
   ]
  },
  {
   "cell_type": "code",
   "execution_count": null,
   "metadata": {},
   "outputs": [],
   "source": [
    "# Learning Curve\n",
    "def plot_learning_curve(predictor, X, y, name_param, name_pred, scoring='accuracy', cv=3):\n",
    "    train_sizes, train_scores, test_scores = learning_curve(predictor, X, y, scoring=scoring, cv=cv)\n",
    "    call_plot(train_sizes, train_scores, test_scores, name_pred, name_param, scoring)\n",
    "    \n",
    "plot_learning_curve(lr, X_train, y_train, \"Training Samples\", \"Logistic Regression\", scoring=\"accuracy\")\n",
    "\n",
    "def plot_multiple_learning_curve(preds, X, y, title='', figsize=(13, 5), names=[], scoring='accuracy', cv=3):\n",
    "    '''\n",
    "    Calling learning curve plots for multiple predictors.\n",
    "    Learning curves are good indicators of overfitting or underfitting.\n",
    "    \n",
    "    '''\n",
    "    n_pred = len(preds)\n",
    "    \n",
    "    train_scores = {}\n",
    "    test_scores = {}\n",
    "    \n",
    "    for i, pred in enumerate(preds):\n",
    "        train_sizes, train_scores[names[i]], test_scores[names[i]] = learning_curve(pred, X, y, \n",
    "                                                                                    scoring=scoring, cv=cv)\n",
    "    \n",
    "\n",
    "    plt.rcParams['font.size'] = 12\n",
    "    \n",
    "    n_col = 2\n",
    "    n_row = int(np.ceil(n_pred/2)) \n",
    "    does_last_exist = bool(n_pred%2) \n",
    "    \n",
    "    fig, axs = plt.subplots(n_row, n_col, figsize=figsize, sharex=False, sharey=False)\n",
    "    if does_last_exist:\n",
    "        fig.delaxes(axs[n_row-1, 1])\n",
    "    \n",
    "    axs = axs.ravel()\n",
    "    axs = axs[:-1] if does_last_exist else axs\n",
    "    \n",
    "    fig.suptitle(title)\n",
    "    plt.subplots_adjust(hspace=0.5)\n",
    "    \n",
    "    for i, ax in enumerate(axs):\n",
    "        mean_train_scores = np.mean(train_scores[names[i]], axis=1)\n",
    "        mean_test_scores = np.mean(test_scores[names[i]], axis=1)\n",
    "        std_train_scores = np.std(train_scores[names[i]], axis=1)\n",
    "        std_test_scores = np.std(test_scores[names[i]], axis=1)\n",
    "        \n",
    "        ax.plot(train_sizes, mean_train_scores, 'o-', color='r',\n",
    "                  label='Training score')\n",
    "        ax.plot(train_sizes, mean_test_scores, 'o-', color='g',\n",
    "                  label='Test score')\n",
    "        ax.fill_between(train_sizes, mean_train_scores - std_train_scores,\n",
    "                          mean_train_scores + std_train_scores, alpha=0.15, color='r')\n",
    "        ax.fill_between(train_sizes, mean_test_scores - std_test_scores,\n",
    "                          mean_test_scores + std_test_scores, alpha=0.15, color='g')\n",
    "        ax.legend(loc='best')\n",
    "        ax.set_xlabel('training samples')\n",
    "        ax.set_ylabel(scoring)\n",
    "        ax.set_title(names[i])\n",
    "    \n",
    "\n",
    "predictors = [KNeighborsClassifier(), GaussianNB(), RandomForestClassifier(), \n",
    "              XGBClassifier(), SVC(decision_function_shape='ovo')]\n",
    "pred_names = ['kn', 'nb', 'rf', 'xgb', 'svc']\n",
    "\n",
    "plot_multiple_learning_curve(predictors, short_X_train, short_y_train, figsize=(16, 10), \n",
    "                              title='Learning Curve over Predictors', names=pred_names, scoring='accuracy', cv=3)"
   ]
  },
  {
   "cell_type": "markdown",
   "metadata": {},
   "source": [
    "<br>\n",
    "\n",
    "## 4. Validation Curve - Performance vs. Regularization Parameter"
   ]
  },
  {
   "cell_type": "code",
   "execution_count": 66,
   "metadata": {},
   "outputs": [
    {
     "data": {
      "image/png": "[encoded data removed]",
      "text/plain": [
       "<Figure size 720x288 with 1 Axes>"
      ]
     },
     "metadata": {},
     "output_type": "display_data"
    }
   ],
   "source": [
    "def plot_val_curve(predictor, X, y, name_param, name_pred, param_space, cv=3):\n",
    "    train_scores, test_scores = validation_curve(predictor, X, y, name_param,\n",
    "                                               param_space, cv=cv)\n",
    "    call_plot(param_space, train_scores, test_scores, name_pred, name_param)\n",
    "    \n",
    "plot_val_curve(RandomForestClassifier(), short_X_train, short_y_train, 'n_estimators',\n",
    "               'Random Forest', range(1, 300, 29))"
   ]
  },
  {
   "cell_type": "markdown",
   "metadata": {},
   "source": [
    "<br>\n",
    "\n",
    "## Hyperparameter Tuning - Random Search\n"
   ]
  },
  {
   "cell_type": "code",
   "execution_count": 185,
   "metadata": {},
   "outputs": [
    {
     "name": "stdout",
     "output_type": "stream",
     "text": [
      "Fitting 3 folds for each of 10 candidates, totalling 30 fits\n"
     ]
    },
    {
     "name": "stderr",
     "output_type": "stream",
     "text": [
      "[Parallel(n_jobs=-1)]: Using backend LokyBackend with 4 concurrent workers.\n",
      "[Parallel(n_jobs=-1)]: Done  30 out of  30 | elapsed:   33.1s finished\n"
     ]
    },
    {
     "data": {
      "text/plain": [
       "RandomizedSearchCV(cv=StratifiedKFold(n_splits=3, random_state=None, shuffle=False),\n",
       "          error_score='raise-deprecating',\n",
       "          estimator=RandomForestClassifier(bootstrap=True, class_weight=None, criterion='gini',\n",
       "            max_depth=None, max_features='auto', max_leaf_nodes=None,\n",
       "            min_impurity_decrease=0.0, min_impurity_split=None,\n",
       "            min_samples_leaf=1, min_samples_split=2,\n",
       "            min_weight_fraction_leaf=0.0, n_estimators='warn', n_jobs=None,\n",
       "            oob_score=False, random_state=None, verbose=0,\n",
       "            warm_start=False),\n",
       "          fit_params=None, iid='warn', n_iter=10, n_jobs=-1,\n",
       "          param_distributions={'n_estimators': array([ 10,  11,  13,  15,  17,  19,  21,  22,  24,  26,  28,  30,  32,\n",
       "        33,  35,  37,  39,  41,  43,  44,  46,  48,  50,  52,  54,  55,\n",
       "        57,  59,  61,  63,  65,  66,  68,  70,  72,  74,  76,  77,  79,\n",
       "        81,  83,  85,  87,  88,  90,  92,  94, ... 49, 50], 'min_samples_split': [2, 5, 10], 'bootstrap': [True, False], 'class_weight': ['balanced']},\n",
       "          pre_dispatch='2*n_jobs', random_state=None, refit=True,\n",
       "          return_train_score='warn', scoring='f1_weighted', verbose=1)"
      ]
     },
     "execution_count": 185,
     "metadata": {},
     "output_type": "execute_result"
    }
   ],
   "source": [
    "# Hyperparameter grid\n",
    "rf_param_grid = {\n",
    "    'n_estimators': np.linspace(10, 100).astype(int),\n",
    "    'max_depth': [None] + list(np.linspace(5, 30).astype(int)),\n",
    "    'max_features': ['auto', 'sqrt', None] + list(np.arange(0.5, 1, 0.1)),\n",
    "    'max_leaf_nodes': [None] + list(np.linspace(10, 50, 500).astype(int)),\n",
    "    'min_samples_split': [2, 5, 10],\n",
    "    'bootstrap': [True, False],\n",
    "    'class_weight': ['balanced']\n",
    "}\n",
    "\n",
    "rf = RandomForestClassifier()\n",
    "rf_rs = RandomizedSearchCV(rf, rf_param_grid, n_jobs = -1, \n",
    "                        scoring = 'f1_weighted', cv = kfold, \n",
    "                        n_iter = 10, verbose = 1)\n",
    "rf_rs.fit(short_X_train, short_y_train)"
   ]
  },
  {
   "cell_type": "code",
   "execution_count": 87,
   "metadata": {},
   "outputs": [
    {
     "name": "stdout",
     "output_type": "stream",
     "text": [
      "Fitting 3 folds for each of 100 candidates, totalling 300 fits\n"
     ]
    },
    {
     "name": "stderr",
     "output_type": "stream",
     "text": [
      "[Parallel(n_jobs=-1)]: Using backend LokyBackend with 4 concurrent workers.\n",
      "[Parallel(n_jobs=-1)]: Done  24 tasks      | elapsed:   30.9s\n",
      "[Parallel(n_jobs=-1)]: Done 120 tasks      | elapsed:  4.2min\n",
      "[Parallel(n_jobs=-1)]: Done 280 tasks      | elapsed:  9.2min\n",
      "[Parallel(n_jobs=-1)]: Done 300 out of 300 | elapsed: 17.9min finished\n"
     ]
    },
    {
     "data": {
      "text/plain": [
       "RandomizedSearchCV(cv=StratifiedKFold(n_splits=3, random_state=None, shuffle=False),\n",
       "          error_score='raise-deprecating',\n",
       "          estimator=XGBClassifier(base_score=0.5, booster='gbtree', colsample_bylevel=1,\n",
       "       colsample_bytree=1, gamma=0, learning_rate=0.1, max_delta_step=0,\n",
       "       max_depth=3, min_child_weight=1, missing=None, n_estimators=100,\n",
       "       n_jobs=1, nthread=None, objective='binary:logistic', random_state=0,\n",
       "       reg_alpha=0, reg_lambda=1, scale_pos_weight=1, seed=None,\n",
       "       silent=True, subsample=1),\n",
       "          fit_params=None, iid='warn', n_iter=100, n_jobs=-1,\n",
       "          param_distributions={'min_child_weight': [1, 5, 10], 'gamma': [0.5, 1, 1.5, 2, 5], 'subsample': [0.6, 0.8, 1.0], 'colsample_bytree': [0.6, 0.8, 1.0], 'max_depth': [3, 4, 5]},\n",
       "          pre_dispatch='2*n_jobs', random_state=None, refit=True,\n",
       "          return_train_score='warn', scoring='f1_micro', verbose=3)"
      ]
     },
     "execution_count": 87,
     "metadata": {},
     "output_type": "execute_result"
    }
   ],
   "source": [
    "# A parameter grid for XGBoost\n",
    "xg_param_grid = {\n",
    "        'min_child_weight': [1, 5, 10],\n",
    "        'gamma': [0.5, 1, 1.5, 2, 5],\n",
    "        'subsample': [0.6, 0.8, 1.0],\n",
    "        'colsample_bytree': [0.6, 0.8, 1.0],\n",
    "        'max_depth': [3, 4, 5]\n",
    "        }\n",
    "\n",
    "xg = XGBClassifier()\n",
    "xg_rs = RandomizedSearchCV(xg, xg_param_grid, \n",
    "                                   n_iter=100, scoring='f1_micro', \n",
    "                                   n_jobs=-1, cv=kfold, verbose=3)\n",
    "xg_rs.fit(short_X_train, np.array(short_y_train).ravel())"
   ]
  },
  {
   "cell_type": "markdown",
   "metadata": {},
   "source": [
    "## Evaluation"
   ]
  }
 ],
 "metadata": {
  "kernelspec": {
   "display_name": "Python 3",
   "language": "python",
   "name": "python3"
  },
  "language_info": {
   "codemirror_mode": {
    "name": "ipython",
    "version": 3
   },
   "file_extension": ".py",
   "mimetype": "text/x-python",
   "name": "python",
   "nbconvert_exporter": "python",
   "pygments_lexer": "ipython3",
   "version": "3.6.7"
  }
 },
 "nbformat": 4,
 "nbformat_minor": 2
}
