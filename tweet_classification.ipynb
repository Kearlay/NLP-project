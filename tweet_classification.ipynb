{
 "cells": [
  {
   "cell_type": "markdown",
   "metadata": {},
   "source": [
    "<h1 align='center'> 1.3MM Tweets Sentimental Analysis <h1>\n",
    "\n",
    "<h2 align='right'> Euiyoung (Jim) Chung <h2>\n",
    "\n",
    "\n",
    "## Descriptions:\n",
    "\n",
    "\n",
    "## Outline:\n",
    "\n",
    "**I. Introduction ** <br>\n",
    "a) Data Import<br>\n",
    "b) Data Cleaning<br><br>\n",
    "\n",
    "**II. Exploratory Data Analysis**<br>\n",
    "a) Distributions<br>\n",
    "b) Features vs. Target<br>\n",
    "c) Among Features<br><br>\n",
    "\n",
    "**III. Feature Engineering**<br>\n",
    "a) Text Vectorization<br>\n",
    "b) Feature Selection<br>\n",
    "c) Categorization<br><br>\n",
    "\n",
    "**IV. Modeling**<br>\n",
    "a) Tying Multiple Models & Features<br>\n",
    "b) What is Happening?<br>\n",
    "c) Hyperparameter Tuning<br>\n",
    "e) SMOTE - Oversampling<br><br>\n",
    "\n",
    "**V. Evaluation**<br>\n",
    "a) Confusion Matrix<br>\n",
    "b) Error Analysis<br>\n",
    "c) Insights from the Model\n",
    "\n"
   ]
  },
  {
   "cell_type": "code",
   "execution_count": 1,
   "metadata": {},
   "outputs": [],
   "source": [
    "import warnings\n",
    "warnings.filterwarnings('ignore')\n",
    "\n",
    "import pandas as pd\n",
    "import numpy as np\n",
    "import seaborn as sns\n",
    "import matplotlib.pyplot as plt\n",
    "from nltk.corpus import stopwords\n",
    "\n",
    "from sklearn.feature_extraction.text import CountVectorizer, TfidfVectorizer\n",
    "from sklearn.model_selection import (train_test_split, StratifiedKFold, cross_val_score, learning_curve,\n",
    "                                    RandomizedSearchCV, cross_validate, validation_curve)\n",
    "from sklearn.pipeline import Pipeline, make_pipeline\n",
    "from sklearn.decomposition import TruncatedSVD\n",
    "from sklearn.preprocessing import MinMaxScaler\n",
    "from sklearn.linear_model import LogisticRegression\n",
    "from sklearn.metrics import classification_report, precision_recall_fscore_support\n",
    "from sklearn.naive_bayes import MultinomialNB\n",
    "from sklearn.ensemble import RandomForestClassifier\n",
    "from xgboost import XGBClassifier\n",
    "from sklearn.neighbors import KNeighborsClassifier\n",
    "from sklearn.svm import LinearSVC\n",
    "from sklearn import tree\n",
    "from sklearn.feature_selection import chi2, SelectFromModel, SelectKBest\n",
    "from sklearn.base import clone\n",
    "from sklearn.preprocessing import Normalizer\n",
    "\n",
    "import re, string\n",
    "\n",
    "plt.style.use('fivethirtyeight')\n",
    "%matplotlib inline"
   ]
  },
  {
   "cell_type": "code",
   "execution_count": 2,
   "metadata": {},
   "outputs": [
    {
     "name": "stdout",
     "output_type": "stream",
     "text": [
      "testfile.com\r\n",
      "\u001b[31mtraining.1600000.processed.noemoticon.csv\u001b[m\u001b[m*\r\n",
      "tweet_practice-Copy1.ipynb\r\n",
      "tweet_practice.ipynb\r\n"
     ]
    }
   ],
   "source": [
    "ls"
   ]
  },
  {
   "cell_type": "markdown",
   "metadata": {},
   "source": [
    "<br>\n",
    "# I. Introduction\n",
    "\n",
    "## Data Import\n",
    "\n",
    "** Findings **\n",
    "\n",
    "- Messy text feature. This is the key information by which to classify the sentiment of the text\n",
    "- It is expected that the time stamps and Ids also have information useful to my classification \n"
   ]
  },
  {
   "cell_type": "code",
   "execution_count": 3,
   "metadata": {},
   "outputs": [],
   "source": [
    "df = pd.read_csv('training.1600000.processed.noemoticon.csv', header=None, encoding='latin-1')"
   ]
  },
  {
   "cell_type": "code",
   "execution_count": 4,
   "metadata": {},
   "outputs": [
    {
     "data": {
      "text/html": [
       "<div>\n",
       "<style scoped>\n",
       "    .dataframe tbody tr th:only-of-type {\n",
       "        vertical-align: middle;\n",
       "    }\n",
       "\n",
       "    .dataframe tbody tr th {\n",
       "        vertical-align: top;\n",
       "    }\n",
       "\n",
       "    .dataframe thead th {\n",
       "        text-align: right;\n",
       "    }\n",
       "</style>\n",
       "<table border=\"1\" class=\"dataframe\">\n",
       "  <thead>\n",
       "    <tr style=\"text-align: right;\">\n",
       "      <th></th>\n",
       "      <th>0</th>\n",
       "      <th>1</th>\n",
       "      <th>2</th>\n",
       "      <th>3</th>\n",
       "      <th>4</th>\n",
       "      <th>5</th>\n",
       "    </tr>\n",
       "  </thead>\n",
       "  <tbody>\n",
       "    <tr>\n",
       "      <th>0</th>\n",
       "      <td>0</td>\n",
       "      <td>1467810369</td>\n",
       "      <td>Mon Apr 06 22:19:45 PDT 2009</td>\n",
       "      <td>NO_QUERY</td>\n",
       "      <td>_TheSpecialOne_</td>\n",
       "      <td>@switchfoot http://twitpic.com/2y1zl - Awww, t...</td>\n",
       "    </tr>\n",
       "    <tr>\n",
       "      <th>1</th>\n",
       "      <td>0</td>\n",
       "      <td>1467810672</td>\n",
       "      <td>Mon Apr 06 22:19:49 PDT 2009</td>\n",
       "      <td>NO_QUERY</td>\n",
       "      <td>scotthamilton</td>\n",
       "      <td>is upset that he can't update his Facebook by ...</td>\n",
       "    </tr>\n",
       "    <tr>\n",
       "      <th>2</th>\n",
       "      <td>0</td>\n",
       "      <td>1467810917</td>\n",
       "      <td>Mon Apr 06 22:19:53 PDT 2009</td>\n",
       "      <td>NO_QUERY</td>\n",
       "      <td>mattycus</td>\n",
       "      <td>@Kenichan I dived many times for the ball. Man...</td>\n",
       "    </tr>\n",
       "  </tbody>\n",
       "</table>\n",
       "</div>"
      ],
      "text/plain": [
       "   0           1                             2         3                4  \\\n",
       "0  0  1467810369  Mon Apr 06 22:19:45 PDT 2009  NO_QUERY  _TheSpecialOne_   \n",
       "1  0  1467810672  Mon Apr 06 22:19:49 PDT 2009  NO_QUERY    scotthamilton   \n",
       "2  0  1467810917  Mon Apr 06 22:19:53 PDT 2009  NO_QUERY         mattycus   \n",
       "\n",
       "                                                   5  \n",
       "0  @switchfoot http://twitpic.com/2y1zl - Awww, t...  \n",
       "1  is upset that he can't update his Facebook by ...  \n",
       "2  @Kenichan I dived many times for the ball. Man...  "
      ]
     },
     "execution_count": 4,
     "metadata": {},
     "output_type": "execute_result"
    }
   ],
   "source": [
    "df.head(3)"
   ]
  },
  {
   "cell_type": "code",
   "execution_count": 6,
   "metadata": {},
   "outputs": [
    {
     "data": {
      "text/plain": [
       "0          0\n",
       "1          0\n",
       "2          0\n",
       "3          0\n",
       "4          0\n",
       "5          0\n",
       "6          0\n",
       "7          0\n",
       "8          0\n",
       "9          0\n",
       "10         0\n",
       "11         0\n",
       "12         0\n",
       "13         0\n",
       "14         0\n",
       "15         0\n",
       "16         0\n",
       "17         0\n",
       "18         0\n",
       "19         0\n",
       "20         0\n",
       "21         0\n",
       "22         0\n",
       "23         0\n",
       "24         0\n",
       "25         0\n",
       "26         0\n",
       "27         0\n",
       "28         0\n",
       "29         0\n",
       "          ..\n",
       "1599970    4\n",
       "1599971    4\n",
       "1599972    4\n",
       "1599973    4\n",
       "1599974    4\n",
       "1599975    4\n",
       "1599976    4\n",
       "1599977    4\n",
       "1599978    4\n",
       "1599979    4\n",
       "1599980    4\n",
       "1599981    4\n",
       "1599982    4\n",
       "1599983    4\n",
       "1599984    4\n",
       "1599985    4\n",
       "1599986    4\n",
       "1599987    4\n",
       "1599988    4\n",
       "1599989    4\n",
       "1599990    4\n",
       "1599991    4\n",
       "1599992    4\n",
       "1599993    4\n",
       "1599994    4\n",
       "1599995    4\n",
       "1599996    4\n",
       "1599997    4\n",
       "1599998    4\n",
       "1599999    4\n",
       "Name: 0, Length: 1600000, dtype: int64"
      ]
     },
     "execution_count": 6,
     "metadata": {},
     "output_type": "execute_result"
    }
   ],
   "source": [
    "df[0]"
   ]
  },
  {
   "cell_type": "code",
   "execution_count": 173,
   "metadata": {},
   "outputs": [
    {
     "name": "stdout",
     "output_type": "stream",
     "text": [
      "<class 'pandas.core.frame.DataFrame'>\n",
      "RangeIndex: 1600000 entries, 0 to 1599999\n",
      "Data columns (total 6 columns):\n",
      "0    1600000 non-null int64\n",
      "1    1600000 non-null int64\n",
      "2    1600000 non-null object\n",
      "3    1600000 non-null object\n",
      "4    1600000 non-null object\n",
      "5    1600000 non-null object\n",
      "dtypes: int64(2), object(4)\n",
      "memory usage: 73.2+ MB\n"
     ]
    }
   ],
   "source": [
    "# 2 int and 4 string features\n",
    "df.info()"
   ]
  },
  {
   "cell_type": "code",
   "execution_count": 174,
   "metadata": {},
   "outputs": [
    {
     "data": {
      "text/plain": [
       "0    0\n",
       "1    0\n",
       "2    0\n",
       "3    0\n",
       "4    0\n",
       "5    0\n",
       "dtype: int64"
      ]
     },
     "execution_count": 174,
     "metadata": {},
     "output_type": "execute_result"
    }
   ],
   "source": [
    "# There is no missing values detected FOR NOW\n",
    "df.isnull().sum()"
   ]
  },
  {
   "cell_type": "code",
   "execution_count": 175,
   "metadata": {},
   "outputs": [
    {
     "data": {
      "text/plain": [
       "0   2009-04-06 22:19:45\n",
       "1   2009-04-06 22:19:49\n",
       "2   2009-04-06 22:19:53\n",
       "3   2009-04-06 22:19:57\n",
       "4   2009-04-06 22:19:57\n",
       "Name: 2, dtype: datetime64[ns]"
      ]
     },
     "execution_count": 175,
     "metadata": {},
     "output_type": "execute_result"
    }
   ],
   "source": [
    "# Time stamps are valid\n",
    "pd.to_datetime(df.iloc[:100,2]).head()"
   ]
  },
  {
   "cell_type": "markdown",
   "metadata": {},
   "source": [
    "<br>\n",
    "## Data Cleaning"
   ]
  },
  {
   "cell_type": "code",
   "execution_count": 176,
   "metadata": {},
   "outputs": [],
   "source": [
    "#shuffle_ind = np.random.permutation(df.shape[0])\n",
    "#df = df.iloc[shuffle_ind[:df.shape[0]//100]]\n",
    "#df.reset_index(inplace=True, drop=True)"
   ]
  },
  {
   "cell_type": "code",
   "execution_count": 177,
   "metadata": {},
   "outputs": [],
   "source": [
    "# Make it easy to handle the time\n",
    "df[2] = pd.to_datetime(df[2])\n",
    "\n",
    "# Time expansion\n",
    "df['year'], df['month'], df['hour'] = df[2].dt.year, df[2].dt.month, df[2].dt.hour\n",
    "\n",
    "# Categorize\n",
    "df['is_daytime'] = df['hour'].between(8, 18).astype(int)\n",
    "\n",
    "# This feature should be used carefully as some places have no seasons\n",
    "season_map = dict(zip(range(1,13) ,['winter']*2 + ['spring']*3 + ['summer']*3 + ['winter']))\n",
    "df['season'] = df['month'].map(season_map)"
   ]
  },
  {
   "cell_type": "code",
   "execution_count": 178,
   "metadata": {
    "scrolled": false
   },
   "outputs": [
    {
     "data": {
      "text/html": [
       "<div>\n",
       "<style scoped>\n",
       "    .dataframe tbody tr th:only-of-type {\n",
       "        vertical-align: middle;\n",
       "    }\n",
       "\n",
       "    .dataframe tbody tr th {\n",
       "        vertical-align: top;\n",
       "    }\n",
       "\n",
       "    .dataframe thead th {\n",
       "        text-align: right;\n",
       "    }\n",
       "</style>\n",
       "<table border=\"1\" class=\"dataframe\">\n",
       "  <thead>\n",
       "    <tr style=\"text-align: right;\">\n",
       "      <th></th>\n",
       "      <th>0</th>\n",
       "      <th>1</th>\n",
       "      <th>2</th>\n",
       "      <th>3</th>\n",
       "      <th>4</th>\n",
       "      <th>5</th>\n",
       "      <th>year</th>\n",
       "      <th>month</th>\n",
       "      <th>hour</th>\n",
       "      <th>is_daytime</th>\n",
       "      <th>season</th>\n",
       "    </tr>\n",
       "  </thead>\n",
       "  <tbody>\n",
       "    <tr>\n",
       "      <th>0</th>\n",
       "      <td>0</td>\n",
       "      <td>1467810369</td>\n",
       "      <td>2009-04-06 22:19:45</td>\n",
       "      <td>NO_QUERY</td>\n",
       "      <td>_TheSpecialOne_</td>\n",
       "      <td>@switchfoot http://twitpic.com/2y1zl - Awww, that's a bummer.  You shoulda got David Carr of Third Day to do it. ;D</td>\n",
       "      <td>2009</td>\n",
       "      <td>4</td>\n",
       "      <td>22</td>\n",
       "      <td>0</td>\n",
       "      <td>spring</td>\n",
       "    </tr>\n",
       "    <tr>\n",
       "      <th>1</th>\n",
       "      <td>0</td>\n",
       "      <td>1467810672</td>\n",
       "      <td>2009-04-06 22:19:49</td>\n",
       "      <td>NO_QUERY</td>\n",
       "      <td>scotthamilton</td>\n",
       "      <td>is upset that he can't update his Facebook by texting it... and might cry as a result  School today also. Blah!</td>\n",
       "      <td>2009</td>\n",
       "      <td>4</td>\n",
       "      <td>22</td>\n",
       "      <td>0</td>\n",
       "      <td>spring</td>\n",
       "    </tr>\n",
       "    <tr>\n",
       "      <th>2</th>\n",
       "      <td>0</td>\n",
       "      <td>1467810917</td>\n",
       "      <td>2009-04-06 22:19:53</td>\n",
       "      <td>NO_QUERY</td>\n",
       "      <td>mattycus</td>\n",
       "      <td>@Kenichan I dived many times for the ball. Managed to save 50%  The rest go out of bounds</td>\n",
       "      <td>2009</td>\n",
       "      <td>4</td>\n",
       "      <td>22</td>\n",
       "      <td>0</td>\n",
       "      <td>spring</td>\n",
       "    </tr>\n",
       "    <tr>\n",
       "      <th>3</th>\n",
       "      <td>0</td>\n",
       "      <td>1467811184</td>\n",
       "      <td>2009-04-06 22:19:57</td>\n",
       "      <td>NO_QUERY</td>\n",
       "      <td>ElleCTF</td>\n",
       "      <td>my whole body feels itchy and like its on fire</td>\n",
       "      <td>2009</td>\n",
       "      <td>4</td>\n",
       "      <td>22</td>\n",
       "      <td>0</td>\n",
       "      <td>spring</td>\n",
       "    </tr>\n",
       "    <tr>\n",
       "      <th>4</th>\n",
       "      <td>0</td>\n",
       "      <td>1467811193</td>\n",
       "      <td>2009-04-06 22:19:57</td>\n",
       "      <td>NO_QUERY</td>\n",
       "      <td>Karoli</td>\n",
       "      <td>@nationwideclass no, it's not behaving at all. i'm mad. why am i here? because I can't see you all over there.</td>\n",
       "      <td>2009</td>\n",
       "      <td>4</td>\n",
       "      <td>22</td>\n",
       "      <td>0</td>\n",
       "      <td>spring</td>\n",
       "    </tr>\n",
       "  </tbody>\n",
       "</table>\n",
       "</div>"
      ],
      "text/plain": [
       "   0           1                   2         3                4  \\\n",
       "0  0  1467810369 2009-04-06 22:19:45  NO_QUERY  _TheSpecialOne_   \n",
       "1  0  1467810672 2009-04-06 22:19:49  NO_QUERY    scotthamilton   \n",
       "2  0  1467810917 2009-04-06 22:19:53  NO_QUERY         mattycus   \n",
       "3  0  1467811184 2009-04-06 22:19:57  NO_QUERY          ElleCTF   \n",
       "4  0  1467811193 2009-04-06 22:19:57  NO_QUERY           Karoli   \n",
       "\n",
       "                                                                                                                     5  \\\n",
       "0  @switchfoot http://twitpic.com/2y1zl - Awww, that's a bummer.  You shoulda got David Carr of Third Day to do it. ;D   \n",
       "1      is upset that he can't update his Facebook by texting it... and might cry as a result  School today also. Blah!   \n",
       "2                            @Kenichan I dived many times for the ball. Managed to save 50%  The rest go out of bounds   \n",
       "3                                                                      my whole body feels itchy and like its on fire    \n",
       "4      @nationwideclass no, it's not behaving at all. i'm mad. why am i here? because I can't see you all over there.    \n",
       "\n",
       "   year  month  hour  is_daytime  season  \n",
       "0  2009      4    22           0  spring  \n",
       "1  2009      4    22           0  spring  \n",
       "2  2009      4    22           0  spring  \n",
       "3  2009      4    22           0  spring  \n",
       "4  2009      4    22           0  spring  "
      ]
     },
     "execution_count": 178,
     "metadata": {},
     "output_type": "execute_result"
    }
   ],
   "source": [
    "df.head()"
   ]
  },
  {
   "cell_type": "code",
   "execution_count": 179,
   "metadata": {},
   "outputs": [
    {
     "name": "stdout",
     "output_type": "stream",
     "text": [
      "all values of 3rd:  ['NO_QUERY']\n",
      "almost all values of 1st are unique: 1598315\n"
     ]
    }
   ],
   "source": [
    "# These columns are not infromative\n",
    "print(\"all values of 3rd: \", df[3].unique())\n",
    "print(\"almost all values of 1st are unique:\", len(df[1].unique()))"
   ]
  },
  {
   "cell_type": "code",
   "execution_count": 180,
   "metadata": {},
   "outputs": [],
   "source": [
    "col_drops = [1, 3]\n",
    "df = df.drop(col_drops, axis=1)\n",
    "\n",
    "col_names = 'target,time,user_id,text,year,month,hour,is_daytime,season'.split(',')\n",
    "df.columns = col_names"
   ]
  },
  {
   "cell_type": "code",
   "execution_count": 181,
   "metadata": {
    "scrolled": true
   },
   "outputs": [
    {
     "data": {
      "text/html": [
       "<div>\n",
       "<style scoped>\n",
       "    .dataframe tbody tr th:only-of-type {\n",
       "        vertical-align: middle;\n",
       "    }\n",
       "\n",
       "    .dataframe tbody tr th {\n",
       "        vertical-align: top;\n",
       "    }\n",
       "\n",
       "    .dataframe thead th {\n",
       "        text-align: right;\n",
       "    }\n",
       "</style>\n",
       "<table border=\"1\" class=\"dataframe\">\n",
       "  <thead>\n",
       "    <tr style=\"text-align: right;\">\n",
       "      <th></th>\n",
       "      <th>target</th>\n",
       "      <th>time</th>\n",
       "      <th>user_id</th>\n",
       "      <th>text</th>\n",
       "      <th>year</th>\n",
       "      <th>month</th>\n",
       "      <th>hour</th>\n",
       "      <th>is_daytime</th>\n",
       "      <th>season</th>\n",
       "    </tr>\n",
       "  </thead>\n",
       "  <tbody>\n",
       "    <tr>\n",
       "      <th>0</th>\n",
       "      <td>0</td>\n",
       "      <td>2009-04-06 22:19:45</td>\n",
       "      <td>_TheSpecialOne_</td>\n",
       "      <td>@switchfoot http://twitpic.com/2y1zl - Awww, that's a bummer.  You shoulda got David Carr of Third Day to do it. ;D</td>\n",
       "      <td>2009</td>\n",
       "      <td>4</td>\n",
       "      <td>22</td>\n",
       "      <td>0</td>\n",
       "      <td>spring</td>\n",
       "    </tr>\n",
       "    <tr>\n",
       "      <th>1</th>\n",
       "      <td>0</td>\n",
       "      <td>2009-04-06 22:19:49</td>\n",
       "      <td>scotthamilton</td>\n",
       "      <td>is upset that he can't update his Facebook by texting it... and might cry as a result  School today also. Blah!</td>\n",
       "      <td>2009</td>\n",
       "      <td>4</td>\n",
       "      <td>22</td>\n",
       "      <td>0</td>\n",
       "      <td>spring</td>\n",
       "    </tr>\n",
       "    <tr>\n",
       "      <th>2</th>\n",
       "      <td>0</td>\n",
       "      <td>2009-04-06 22:19:53</td>\n",
       "      <td>mattycus</td>\n",
       "      <td>@Kenichan I dived many times for the ball. Managed to save 50%  The rest go out of bounds</td>\n",
       "      <td>2009</td>\n",
       "      <td>4</td>\n",
       "      <td>22</td>\n",
       "      <td>0</td>\n",
       "      <td>spring</td>\n",
       "    </tr>\n",
       "    <tr>\n",
       "      <th>3</th>\n",
       "      <td>0</td>\n",
       "      <td>2009-04-06 22:19:57</td>\n",
       "      <td>ElleCTF</td>\n",
       "      <td>my whole body feels itchy and like its on fire</td>\n",
       "      <td>2009</td>\n",
       "      <td>4</td>\n",
       "      <td>22</td>\n",
       "      <td>0</td>\n",
       "      <td>spring</td>\n",
       "    </tr>\n",
       "    <tr>\n",
       "      <th>4</th>\n",
       "      <td>0</td>\n",
       "      <td>2009-04-06 22:19:57</td>\n",
       "      <td>Karoli</td>\n",
       "      <td>@nationwideclass no, it's not behaving at all. i'm mad. why am i here? because I can't see you all over there.</td>\n",
       "      <td>2009</td>\n",
       "      <td>4</td>\n",
       "      <td>22</td>\n",
       "      <td>0</td>\n",
       "      <td>spring</td>\n",
       "    </tr>\n",
       "  </tbody>\n",
       "</table>\n",
       "</div>"
      ],
      "text/plain": [
       "   target                time          user_id  \\\n",
       "0       0 2009-04-06 22:19:45  _TheSpecialOne_   \n",
       "1       0 2009-04-06 22:19:49    scotthamilton   \n",
       "2       0 2009-04-06 22:19:53         mattycus   \n",
       "3       0 2009-04-06 22:19:57          ElleCTF   \n",
       "4       0 2009-04-06 22:19:57           Karoli   \n",
       "\n",
       "                                                                                                                  text  \\\n",
       "0  @switchfoot http://twitpic.com/2y1zl - Awww, that's a bummer.  You shoulda got David Carr of Third Day to do it. ;D   \n",
       "1      is upset that he can't update his Facebook by texting it... and might cry as a result  School today also. Blah!   \n",
       "2                            @Kenichan I dived many times for the ball. Managed to save 50%  The rest go out of bounds   \n",
       "3                                                                      my whole body feels itchy and like its on fire    \n",
       "4      @nationwideclass no, it's not behaving at all. i'm mad. why am i here? because I can't see you all over there.    \n",
       "\n",
       "   year  month  hour  is_daytime  season  \n",
       "0  2009      4    22           0  spring  \n",
       "1  2009      4    22           0  spring  \n",
       "2  2009      4    22           0  spring  \n",
       "3  2009      4    22           0  spring  \n",
       "4  2009      4    22           0  spring  "
      ]
     },
     "execution_count": 181,
     "metadata": {},
     "output_type": "execute_result"
    }
   ],
   "source": [
    "# Ready to analyze!\n",
    "df.head()"
   ]
  },
  {
   "cell_type": "code",
   "execution_count": 182,
   "metadata": {},
   "outputs": [],
   "source": [
    "labels = df['target']"
   ]
  },
  {
   "cell_type": "markdown",
   "metadata": {},
   "source": [
    "<br>\n",
    "<br>\n",
    "# 2. Exploratory Data Analysis\n",
    "\n",
    "## Distributions\n",
    "\n",
    "- The proportion of the binary class is balanced."
   ]
  },
  {
   "cell_type": "code",
   "execution_count": 183,
   "metadata": {},
   "outputs": [
    {
     "data": {
      "image/png": "[encoded data removed]",
      "text/plain": [
       "<Figure size 504x504 with 1 Axes>"
      ]
     },
     "metadata": {},
     "output_type": "display_data"
    }
   ],
   "source": [
    "# We have a balanced target\n",
    "colors = [\"#3791D7\", \"#D72626\"]\n",
    "df[\"target\"].value_counts().plot.pie(explode=[0,0.1], autopct='%1.2f%%', \n",
    "                                             shadow=True, colors=colors, \n",
    "                                             labels=[\"neg\", \"pos\"], fontsize=16, startangle=70, figsize=(7,7))\n",
    "plt.show()"
   ]
  },
  {
   "cell_type": "code",
   "execution_count": 184,
   "metadata": {},
   "outputs": [
    {
     "data": {
      "image/png": "[encoded data removed]",
      "text/plain": [
       "<Figure size 1008x432 with 2 Axes>"
      ]
     },
     "metadata": {},
     "output_type": "display_data"
    }
   ],
   "source": [
    "fig, (ax1, ax2) = plt.subplots(1, 2, figsize=(14,6))\n",
    "\n",
    "df['season'].value_counts().plot.bar(rot=0, fontsize=16, ax=ax1)\n",
    "\n",
    "day_plot = df.groupby(['is_daytime']).size()\n",
    "day_plot.index = ['night', 'daytime']\n",
    "day_plot.plot.bar(rot=0, fontsize=16, ax=ax2)\n",
    "\n",
    "ax1.set_title('Observation Num vs. Season')\n",
    "ax1.set_ylabel('Counts', fontsize=14)\n",
    "ax2.set_title('Observation Num vs. Daytime')\n",
    "\n",
    "plt.show()"
   ]
  },
  {
   "cell_type": "code",
   "execution_count": 185,
   "metadata": {},
   "outputs": [],
   "source": [
    "df['len'] = df['text'].str.len()"
   ]
  },
  {
   "cell_type": "code",
   "execution_count": 186,
   "metadata": {},
   "outputs": [],
   "source": [
    "len_groupby = df.groupby(['len'])['target'].value_counts()/df.groupby(['len'])['target'].size()\n",
    "\n",
    "len_groupby = len_groupby.unstack()\n",
    "len_groupby.columns = ['Negative', 'Postivie']"
   ]
  },
  {
   "cell_type": "code",
   "execution_count": 187,
   "metadata": {},
   "outputs": [
    {
     "data": {
      "image/png": "[encoded data removed]",
      "text/plain": [
       "<Figure size 1008x360 with 1 Axes>"
      ]
     },
     "metadata": {},
     "output_type": "display_data"
    }
   ],
   "source": [
    "# Positive Tweets are slightly more verbose\n",
    "len_groupby.plot.kde(figsize=(14,5), title=\"Tweet Length Ratio vs. Target\")\n",
    "plt.show()"
   ]
  },
  {
   "cell_type": "markdown",
   "metadata": {},
   "source": [
    "<br>\n",
    "<br>\n",
    "# III. Feature Engineering\n",
    "\n",
    "## Text Vectorization\n",
    "\n",
    "### Approaches\n",
    "\n",
    "### Summary"
   ]
  },
  {
   "cell_type": "code",
   "execution_count": 188,
   "metadata": {},
   "outputs": [
    {
     "data": {
      "text/html": [
       "<div>\n",
       "<style scoped>\n",
       "    .dataframe tbody tr th:only-of-type {\n",
       "        vertical-align: middle;\n",
       "    }\n",
       "\n",
       "    .dataframe tbody tr th {\n",
       "        vertical-align: top;\n",
       "    }\n",
       "\n",
       "    .dataframe thead th {\n",
       "        text-align: right;\n",
       "    }\n",
       "</style>\n",
       "<table border=\"1\" class=\"dataframe\">\n",
       "  <thead>\n",
       "    <tr style=\"text-align: right;\">\n",
       "      <th></th>\n",
       "      <th>target</th>\n",
       "      <th>time</th>\n",
       "      <th>user_id</th>\n",
       "      <th>text</th>\n",
       "      <th>year</th>\n",
       "      <th>month</th>\n",
       "      <th>hour</th>\n",
       "      <th>is_daytime</th>\n",
       "      <th>season</th>\n",
       "      <th>len</th>\n",
       "    </tr>\n",
       "  </thead>\n",
       "  <tbody>\n",
       "    <tr>\n",
       "      <th>0</th>\n",
       "      <td>0</td>\n",
       "      <td>2009-04-06 22:19:45</td>\n",
       "      <td>_TheSpecialOne_</td>\n",
       "      <td>@switchfoot http://twitpic.com/2y1zl - Awww, that's a bummer.  You shoulda got David Carr of Third Day to do it. ;D</td>\n",
       "      <td>2009</td>\n",
       "      <td>4</td>\n",
       "      <td>22</td>\n",
       "      <td>0</td>\n",
       "      <td>spring</td>\n",
       "      <td>115</td>\n",
       "    </tr>\n",
       "    <tr>\n",
       "      <th>1</th>\n",
       "      <td>0</td>\n",
       "      <td>2009-04-06 22:19:49</td>\n",
       "      <td>scotthamilton</td>\n",
       "      <td>is upset that he can't update his Facebook by texting it... and might cry as a result  School today also. Blah!</td>\n",
       "      <td>2009</td>\n",
       "      <td>4</td>\n",
       "      <td>22</td>\n",
       "      <td>0</td>\n",
       "      <td>spring</td>\n",
       "      <td>111</td>\n",
       "    </tr>\n",
       "    <tr>\n",
       "      <th>2</th>\n",
       "      <td>0</td>\n",
       "      <td>2009-04-06 22:19:53</td>\n",
       "      <td>mattycus</td>\n",
       "      <td>@Kenichan I dived many times for the ball. Managed to save 50%  The rest go out of bounds</td>\n",
       "      <td>2009</td>\n",
       "      <td>4</td>\n",
       "      <td>22</td>\n",
       "      <td>0</td>\n",
       "      <td>spring</td>\n",
       "      <td>89</td>\n",
       "    </tr>\n",
       "    <tr>\n",
       "      <th>3</th>\n",
       "      <td>0</td>\n",
       "      <td>2009-04-06 22:19:57</td>\n",
       "      <td>ElleCTF</td>\n",
       "      <td>my whole body feels itchy and like its on fire</td>\n",
       "      <td>2009</td>\n",
       "      <td>4</td>\n",
       "      <td>22</td>\n",
       "      <td>0</td>\n",
       "      <td>spring</td>\n",
       "      <td>47</td>\n",
       "    </tr>\n",
       "    <tr>\n",
       "      <th>4</th>\n",
       "      <td>0</td>\n",
       "      <td>2009-04-06 22:19:57</td>\n",
       "      <td>Karoli</td>\n",
       "      <td>@nationwideclass no, it's not behaving at all. i'm mad. why am i here? because I can't see you all over there.</td>\n",
       "      <td>2009</td>\n",
       "      <td>4</td>\n",
       "      <td>22</td>\n",
       "      <td>0</td>\n",
       "      <td>spring</td>\n",
       "      <td>111</td>\n",
       "    </tr>\n",
       "  </tbody>\n",
       "</table>\n",
       "</div>"
      ],
      "text/plain": [
       "   target                time          user_id  \\\n",
       "0       0 2009-04-06 22:19:45  _TheSpecialOne_   \n",
       "1       0 2009-04-06 22:19:49    scotthamilton   \n",
       "2       0 2009-04-06 22:19:53         mattycus   \n",
       "3       0 2009-04-06 22:19:57          ElleCTF   \n",
       "4       0 2009-04-06 22:19:57           Karoli   \n",
       "\n",
       "                                                                                                                  text  \\\n",
       "0  @switchfoot http://twitpic.com/2y1zl - Awww, that's a bummer.  You shoulda got David Carr of Third Day to do it. ;D   \n",
       "1      is upset that he can't update his Facebook by texting it... and might cry as a result  School today also. Blah!   \n",
       "2                            @Kenichan I dived many times for the ball. Managed to save 50%  The rest go out of bounds   \n",
       "3                                                                      my whole body feels itchy and like its on fire    \n",
       "4      @nationwideclass no, it's not behaving at all. i'm mad. why am i here? because I can't see you all over there.    \n",
       "\n",
       "   year  month  hour  is_daytime  season  len  \n",
       "0  2009      4    22           0  spring  115  \n",
       "1  2009      4    22           0  spring  111  \n",
       "2  2009      4    22           0  spring   89  \n",
       "3  2009      4    22           0  spring   47  \n",
       "4  2009      4    22           0  spring  111  "
      ]
     },
     "execution_count": 188,
     "metadata": {},
     "output_type": "execute_result"
    }
   ],
   "source": [
    "df.head()"
   ]
  },
  {
   "cell_type": "code",
   "execution_count": 189,
   "metadata": {},
   "outputs": [
    {
     "data": {
      "text/plain": [
       "0    @switchfoot http://twitpic.com/2y1zl - Awww, that's a bummer.  You shoulda got David Carr of Third Day to do it. ;D\n",
       "1        is upset that he can't update his Facebook by texting it... and might cry as a result  School today also. Blah!\n",
       "Name: text, dtype: object"
      ]
     },
     "execution_count": 189,
     "metadata": {},
     "output_type": "execute_result"
    }
   ],
   "source": [
    "pd.options.display.max_colwidth = 1000\n",
    "df['text'].head(2)"
   ]
  },
  {
   "cell_type": "code",
   "execution_count": 190,
   "metadata": {},
   "outputs": [],
   "source": [
    "# Tokenize\n",
    "def preprocessing(titles):\n",
    "    num_titles = titles.size\n",
    "    \n",
    "    clean_titles = []\n",
    "    \n",
    "    stops = set(stopwords.words(\"english\"))\n",
    "    \n",
    "    for i in range(0, num_titles):\n",
    "        letters_only = re.sub(\"[^a-zA-Z]\", \" \", titles[i]) \n",
    "        words = letters_only.lower().split()\n",
    "        words = [w.lower() for w in words if not w in stops]  \n",
    "        clean_titles.append(\" \".join(words))\n",
    "        \n",
    "    return clean_titles"
   ]
  },
  {
   "cell_type": "code",
   "execution_count": 191,
   "metadata": {},
   "outputs": [],
   "source": [
    "clean_text = preprocessing(df['text'])"
   ]
  },
  {
   "cell_type": "code",
   "execution_count": 192,
   "metadata": {},
   "outputs": [],
   "source": [
    "# Tf-idf\n",
    "def tf_idf(titles, ngram_range=(1,1), max_df=1.0, min_df=1, norm='l2'):\n",
    "\n",
    "    tf_idf_vectorizer = TfidfVectorizer(ngram_range=ngram_range, \n",
    "                                        max_df=max_df, min_df=min_df, norm=norm)\n",
    "    vectors = tf_idf_vectorizer.fit_transform(titles)\n",
    "    \n",
    "    return vectors, tf_idf_vectorizer # This transformer will be used to vectorize test data again."
   ]
  },
  {
   "cell_type": "code",
   "execution_count": 193,
   "metadata": {},
   "outputs": [],
   "source": [
    "del tf_idf\n",
    "\n",
    "# Tf-idf\n",
    "def tf_idf(titles, ngram_range=(1,1), max_df=1.0, min_df=1, norm='l2'):\n",
    "\n",
    "    tf_idf_vectorizer = TfidfVectorizer(ngram_range=ngram_range, \n",
    "                                        max_df=max_df, min_df=min_df, norm=norm)\n",
    "    vectors = tf_idf_vectorizer.fit_transform(titles)\n",
    "    \n",
    "    return vectors, tf_idf_vectorizer # This transformer will be used to vectorize test data again."
   ]
  },
  {
   "cell_type": "code",
   "execution_count": 194,
   "metadata": {},
   "outputs": [],
   "source": [
    "text_vec, tf_idf_vectorizer = tf_idf(clean_text, max_df=0.99, min_df=3)"
   ]
  },
  {
   "cell_type": "code",
   "execution_count": 195,
   "metadata": {},
   "outputs": [],
   "source": [
    "# Feature Selection\n",
    "def features_chi2(features, labels, n_features=5000):\n",
    "    chi2_model = SelectKBest(chi2, k=n_features)\n",
    "    new_features = chi2_model.fit_transform(features, labels)\n",
    "    return new_features, chi2_model\n",
    "\n",
    "def features_information_gain(features, labels, max_features=1000):\n",
    "    tree_clf = tree.DecisionTreeClassifier(criterion=\"entropy\", max_features=max_features)\n",
    "    tree_clf = tree_clf.fit(features, labels)\n",
    "    inf_gain = SelectFromModel(tree_clf, prefit=True)\n",
    "    new_features = inf_gain.transform(features)\n",
    "    return new_features, inf_gain\n",
    "    \n",
    "def features_lsa(features,n_components=100):\n",
    "    svd = TruncatedSVD(n_components=n_components)\n",
    "    normalizer =  Normalizer(copy=False)\n",
    "    lsa = make_pipeline(svd, normalizer)\n",
    "    new_features = lsa.fit_transform(features)\n",
    "    return new_features, lsa"
   ]
  },
  {
   "cell_type": "code",
   "execution_count": 196,
   "metadata": {},
   "outputs": [],
   "source": [
    "chi2_vec, chi2_model = features_chi2(text_vec, labels, 100)\n",
    "ig_vec, ig_model = features_information_gain(text_vec, labels, max_features=100)\n",
    "lsa_vec, lsa_model = features_lsa(text_vec, 100)"
   ]
  },
  {
   "cell_type": "markdown",
   "metadata": {},
   "source": [
    "<br>\n",
    "<br>\n",
    "# IV. Modeling\n",
    "\n",
    "## Initial Model"
   ]
  },
  {
   "cell_type": "code",
   "execution_count": 90,
   "metadata": {},
   "outputs": [],
   "source": [
    "from sklearn.model_selection import cross_validate"
   ]
  },
  {
   "cell_type": "code",
   "execution_count": 200,
   "metadata": {
    "scrolled": true
   },
   "outputs": [
    {
     "name": "stdout",
     "output_type": "stream",
     "text": [
      "CPU times: user 0 ns, sys: 0 ns, total: 0 ns\n",
      "Wall time: 6.44 µs\n",
      "LSA Logistic - precision: 0.772, recall: 0.77, fscore: 0.77\n"
     ]
    }
   ],
   "source": [
    "lr = LinearSVC()\n",
    "\n",
    "test_val = cross_validate(lr, ig_vec, labels, scoring=['precision_weighted', \n",
    "                                                       'recall_weighted', 'f1_weighted'], cv=5)\n",
    "    \n",
    "precision = round(test_val['test_precision_weighted'].mean(), 3)\n",
    "recall = round(test_val['test_recall_weighted'].mean(), 3)\n",
    "fscore = round(test_val['test_f1_weighted'].mean(), 3)\n",
    "    \n",
    "print(vec_names[i], \"Logistic\", \"- precision: {0}, recall: {1}, fscore: {2}\".format(precision, recall, fscore))"
   ]
  },
  {
   "cell_type": "code",
   "execution_count": 91,
   "metadata": {},
   "outputs": [
    {
     "name": "stdout",
     "output_type": "stream",
     "text": [
      "Chi2 Logistic - precision: 0.706, recall: 0.684, fscore: 0.675\n",
      "IG Logistic - precision: 0.737, recall: 0.736, fscore: 0.736\n",
      "LSA Logistic - precision: 0.692, recall: 0.691, fscore: 0.691\n"
     ]
    }
   ],
   "source": [
    "# Stratified Cross-validation\n",
    "kfold = StratifiedKFold(n_splits=3, random_state=42)\n",
    "lr = LogisticRegression()\n",
    "\n",
    "# Evaluate\n",
    "vec_names = ['Chi2', 'IG', \"LSA\"]\n",
    "vec_type = []\n",
    "clf_type = []\n",
    "metrics = []\n",
    "\n",
    "# Fit the model\n",
    "for i, vec in enumerate([chi2_vec, ig_vec, lsa_vec]):\n",
    "    test_val = cross_validate(lr, vec, labels, scoring=['precision_weighted', \n",
    "                                                       'recall_weighted', 'f1_weighted'], cv=10)\n",
    "    \n",
    "    precision = round(test_val['test_precision_weighted'].mean(), 3)\n",
    "    recall = round(test_val['test_recall_weighted'].mean(), 3)\n",
    "    fscore = round(test_val['test_f1_weighted'].mean(), 3)\n",
    "    \n",
    "    print(vec_names[i], \"Logistic\", \"- precision: {0}, recall: {1}, fscore: {2}\".format(precision, recall, fscore))\n",
    "    \n",
    "    vec_type.append(vec_names[i])\n",
    "    clf_type.append(\"Logistic\")\n",
    "    metrics.append([precision, recall, fscore])"
   ]
  },
  {
   "cell_type": "markdown",
   "metadata": {},
   "source": [
    "<br>\n",
    "## Trying Multiple Models & Features"
   ]
  },
  {
   "cell_type": "code",
   "execution_count": 33,
   "metadata": {},
   "outputs": [
    {
     "data": {
      "text/plain": [
       "'\\nshuffle_ind = np.random.permutation(df.shape[0])\\nshort_vec = vec.iloc[shuffle_ind[:df.shape[0]//100]]\\nshort_labels = labels.iloc[shuffle_ind[:df.shape[0]//100]]\\n'"
      ]
     },
     "execution_count": 33,
     "metadata": {},
     "output_type": "execute_result"
    }
   ],
   "source": [
    "'''\n",
    "shuffle_ind = np.random.permutation(df.shape[0])\n",
    "short_vec = vec.iloc[shuffle_ind[:df.shape[0]//100]]\n",
    "short_labels = labels.iloc[shuffle_ind[:df.shape[0]//100]]\n",
    "'''"
   ]
  },
  {
   "cell_type": "code",
   "execution_count": 94,
   "metadata": {},
   "outputs": [],
   "source": [
    "# Evaluation\n",
    "def custom_cross_validate(text_matrix, labels, classifier=\"SVM\", n_splits=10):\n",
    "    clf = None\n",
    "    precision = []\n",
    "    recall = []\n",
    "    fscore = []\n",
    "    \n",
    "    if classifier == \"RF\":\n",
    "        clf = RandomForestClassifier()\n",
    "    elif classifier == \"NB\":\n",
    "        clf = MultinomialNB()\n",
    "    elif classifier == \"SVM\":\n",
    "        clf = LinearSVC()\n",
    "    elif classifier == \"XGB\":\n",
    "        clf = XGBClassifier()\n",
    "    elif classifier == \"KNN\":\n",
    "        clf = KNeighborsClassifier()\n",
    "        \n",
    "    skf = StratifiedKFold(n_splits=n_splits)\n",
    "\n",
    "    for train_index, test_index in skf.split(X=np.zeros(len(labels)), y=labels):\n",
    "        clone_clf = clone(clf)\n",
    "        X_train, X_test = text_matrix[train_index], text_matrix[test_index]\n",
    "        y_train, y_test = labels[train_index], labels[test_index]\n",
    "        clone_clf.fit(X_train, y_train)\n",
    "        \n",
    "        y_pred = clone_clf.predict(X_test)\n",
    "        p,r,f,s = precision_recall_fscore_support(y_test, y_pred, average='weighted')\n",
    "        precision.append(p)\n",
    "        recall.append(r)\n",
    "        fscore.append(f)\n",
    "        \n",
    "    return round(np.mean(precision),3), round(np.mean(recall),3), round(np.mean(fscore),3)"
   ]
  },
  {
   "cell_type": "code",
   "execution_count": 96,
   "metadata": {},
   "outputs": [
    {
     "name": "stdout",
     "output_type": "stream",
     "text": [
      "Chi2 SVM - precision: 0.71, recall: 0.685, fscore: 0.676\n",
      "Chi2 RF - precision: 0.653, recall: 0.638, fscore: 0.628\n",
      "Chi2 NB - precision: 0.689, recall: 0.658, fscore: 0.644\n",
      "Chi2 KNN - precision: 0.676, recall: 0.653, fscore: 0.641\n",
      "IG SVM - precision: 0.737, recall: 0.735, fscore: 0.735\n",
      "IG RF - precision: 0.693, recall: 0.693, fscore: 0.693\n",
      "IG NB - precision: 0.726, recall: 0.726, fscore: 0.726\n",
      "IG KNN - precision: 0.661, recall: 0.652, fscore: 0.647\n",
      "LSA SVM - precision: 0.692, recall: 0.692, fscore: 0.691\n",
      "LSA RF - precision: 0.64, recall: 0.637, fscore: 0.635\n",
      "LSA KNN - precision: 0.648, recall: 0.647, fscore: 0.647\n"
     ]
    }
   ],
   "source": [
    "for i, vec in enumerate([chi2_vec, ig_vec, lsa_vec]):\n",
    "    for clf in ['SVM', 'RF', 'NB', 'KNN']:\n",
    "        try:\n",
    "            precision, recall, fscore = custom_cross_validate(vec, labels, clf, 10)\n",
    "            \n",
    "            vec_type.append(vec_names[i])\n",
    "            clf_type.append(clf)\n",
    "            metrics.append([precision, recall, fscore])\n",
    "            \n",
    "            print(vec_names[i], clf, \"- precision: {0}, recall: {1}, fscore: {2}\".format(precision, recall, fscore))\n",
    "        except:\n",
    "            pass"
   ]
  },
  {
   "cell_type": "markdown",
   "metadata": {},
   "source": [
    "<br>\n",
    "# What is Happening?"
   ]
  },
  {
   "cell_type": "code",
   "execution_count": 97,
   "metadata": {},
   "outputs": [],
   "source": [
    "def call_plot(xaxis, train_scores, test_scores, name_pred, name_param, scoring):\n",
    "    train_scores_mean = np.mean(train_scores, axis=1)\n",
    "    test_scores_mean = np.mean(test_scores, axis=1)\n",
    "\n",
    "    train_scores_std = np.std(train_scores, axis=1)\n",
    "    test_scores_std = np.std(test_scores, axis=1)\n",
    "    \n",
    "    plt.rcParams['font.size'] = 12\n",
    "    plt.figure(figsize=(10,4))\n",
    "    plt.plot(xaxis, train_scores_mean, label='Train score')\n",
    "    plt.plot(xaxis, test_scores_mean, label='Test score')\n",
    "    plt.fill_between(xaxis, train_scores_mean - train_scores_std,\n",
    "                train_scores_mean + train_scores_std, alpha=0.15)\n",
    "    plt.fill_between(xaxis, test_scores_mean - test_scores_std,\n",
    "                test_scores_mean + test_scores_std, alpha=0.15)\n",
    "    plt.legend(fontsize=14)\n",
    "    plt.xlabel(name_param)\n",
    "    plt.ylabel(scoring)\n",
    "    plt.title(\"{} {} vs. {}\".format(name_pred, scoring, name_param))\n",
    "    plt.show()"
   ]
  },
  {
   "cell_type": "code",
   "execution_count": 102,
   "metadata": {},
   "outputs": [
    {
     "data": {
      "image/png": "[encoded data removed]",
      "text/plain": [
       "<Figure size 1152x720 with 4 Axes>"
      ]
     },
     "metadata": {},
     "output_type": "display_data"
    }
   ],
   "source": [
    "def plot_multiple_learning_curve(preds, X, y, title='', figsize=(13, 5), names=[], scoring='accuracy', cv=3):\n",
    "    '''\n",
    "    Calling learning curve plots for multiple predictors.\n",
    "    Learning curves are good indicators of overfitting or underfitting.\n",
    "    \n",
    "    '''\n",
    "    n_pred = len(preds)\n",
    "    \n",
    "    train_scores = {}\n",
    "    test_scores = {}\n",
    "    \n",
    "    for i, pred in enumerate(preds):\n",
    "        train_sizes, train_scores[names[i]], test_scores[names[i]] = learning_curve(pred, X, y, \n",
    "                                                                                    scoring=scoring, cv=cv)\n",
    "    \n",
    "\n",
    "    plt.rcParams['font.size'] = 12\n",
    "    \n",
    "    n_col = 2\n",
    "    n_row = int(np.ceil(n_pred/2)) \n",
    "    does_last_exist = bool(n_pred%2) \n",
    "    \n",
    "    fig, axs = plt.subplots(n_row, n_col, figsize=figsize, sharex=False, sharey=False)\n",
    "    if does_last_exist:\n",
    "        fig.delaxes(axs[n_row-1, 1])\n",
    "    \n",
    "    axs = axs.ravel()\n",
    "    axs = axs[:-1] if does_last_exist else axs\n",
    "    \n",
    "    fig.suptitle(title)\n",
    "    plt.subplots_adjust(hspace=0.5)\n",
    "    \n",
    "    for i, ax in enumerate(axs):\n",
    "        mean_train_scores = np.mean(train_scores[names[i]], axis=1)\n",
    "        mean_test_scores = np.mean(test_scores[names[i]], axis=1)\n",
    "        std_train_scores = np.std(train_scores[names[i]], axis=1)\n",
    "        std_test_scores = np.std(test_scores[names[i]], axis=1)\n",
    "        \n",
    "        ax.plot(train_sizes, mean_train_scores, 'o-', color='r',\n",
    "                  label='Training score')\n",
    "        ax.plot(train_sizes, mean_test_scores, 'o-', color='g',\n",
    "                  label='Test score')\n",
    "        ax.fill_between(train_sizes, mean_train_scores - std_train_scores,\n",
    "                          mean_train_scores + std_train_scores, alpha=0.15, color='r')\n",
    "        ax.fill_between(train_sizes, mean_test_scores - std_test_scores,\n",
    "                          mean_test_scores + std_test_scores, alpha=0.15, color='g')\n",
    "        ax.legend(loc='best')\n",
    "        ax.set_xlabel('training samples')\n",
    "        ax.set_ylabel(scoring)\n",
    "        ax.set_title(names[i])\n",
    "    \n",
    "\n",
    "predictors = [MultinomialNB(), RandomForestClassifier(), LinearSVC(), KNeighborsClassifier()]\n",
    "pred_names = ['nb', 'rf', 'svc', 'knn']\n",
    "\n",
    "plot_multiple_learning_curve(predictors, ig_vec, labels, figsize=(16, 10), \n",
    "                              title='Learning Curve over Predictors', names=pred_names, scoring='accuracy', cv=3)"
   ]
  },
  {
   "cell_type": "markdown",
   "metadata": {},
   "source": [
    "<br>\n",
    "<br>\n",
    "## Hyperparamter Tuning"
   ]
  },
  {
   "cell_type": "code",
   "execution_count": 201,
   "metadata": {},
   "outputs": [
    {
     "name": "stdout",
     "output_type": "stream",
     "text": [
      "ig vector - SVC - precision: 0.7739973029555995, recall: 0.7725574999999999, fscore: 0.7722579666091455\n"
     ]
    }
   ],
   "source": [
    "# Linear SVC\n",
    "param_grid = {'penalty': ['l1', 'l2'],\n",
    "              'loss': ['hinge', 'squared_hinge'],\n",
    "              'dual': [True, False],\n",
    "              'C': [0.2, 0.4, 0.6, 0.8, 1.0],\n",
    "              'multi_class': ['crammer_singer', 'ovr'],\n",
    "              'class_weight': [None, 'balanced']}\n",
    "              \n",
    "\n",
    "clf = LinearSVC()\n",
    "svc_rs = RandomizedSearchCV(clf, param_grid, n_iter=10, n_jobs=-1, cv=3, \n",
    "                        scoring='f1_weighted', error_score=0)\n",
    "svc_rs.fit(ig_vec, labels)\n",
    "\n",
    "best_svc = svc_rs.best_estimator_\n",
    "\n",
    "test_val = cross_validate(best_svc, ig_vec, labels, scoring=['precision_weighted', \n",
    "                                                       'recall_weighted', 'f1_weighted'], cv=10)\n",
    "\n",
    "precision = test_val['test_precision_weighted'].mean()\n",
    "recall = test_val['test_recall_weighted'].mean()\n",
    "fscore = test_val['test_f1_weighted'].mean()\n",
    "    \n",
    "print(\"ig vector -\", \"SVC\", \"- precision: {0}, recall: {1}, fscore: {2}\".format(precision, recall, fscore))"
   ]
  },
  {
   "cell_type": "code",
   "execution_count": 202,
   "metadata": {},
   "outputs": [
    {
     "data": {
      "text/plain": [
       "<bound method BaseEstimator.get_params of LinearSVC(C=0.2, class_weight=None, dual=False, fit_intercept=True,\n",
       "     intercept_scaling=1, loss='squared_hinge', max_iter=1000,\n",
       "     multi_class='ovr', penalty='l1', random_state=None, tol=0.0001,\n",
       "     verbose=0)>"
      ]
     },
     "execution_count": 202,
     "metadata": {},
     "output_type": "execute_result"
    }
   ],
   "source": [
    "best_svc.get_params"
   ]
  },
  {
   "cell_type": "code",
   "execution_count": null,
   "metadata": {},
   "outputs": [
    {
     "name": "stdout",
     "output_type": "stream",
     "text": [
      "Fitting 3 folds for each of 10 candidates, totalling 30 fits\n"
     ]
    }
   ],
   "source": [
    "# Random Forest\n",
    "rf_param_grid = {\n",
    "    'n_estimators': np.linspace(10, 100).astype(int),\n",
    "    'max_depth': [None] + list(np.linspace(5, 30).astype(int)),\n",
    "    'max_features': ['auto', 'sqrt', None] + list(np.arange(0.5, 1, 0.1)),\n",
    "    'max_leaf_nodes': [None] + list(np.linspace(10, 50, 500).astype(int)),\n",
    "    'min_samples_split': [2, 5, 10],\n",
    "    'bootstrap': [True, False],\n",
    "    'class_weight': ['balanced']\n",
    "}\n",
    "\n",
    "rf = RandomForestClassifier()\n",
    "rf_rs = RandomizedSearchCV(rf, rf_param_grid, n_jobs = -1, \n",
    "                        scoring = 'f1_weighted', cv = 3, \n",
    "                        n_iter = 10, verbose = 1)\n",
    "rf_rs.fit(ig_vec, labels)\n",
    "\n",
    "\n",
    "best_rf = svc_rs.best_estimator_\n",
    "\n",
    "test_val = cross_validate(best_rf, ig_vec, labels, scoring=['precision_weighted', \n",
    "                                                       'recall_weighted', 'f1_weighted'], cv=10)\n",
    "\n",
    "precision = test_val['test_precision_weighted'].mean()\n",
    "recall = test_val['test_recall_weighted'].mean()\n",
    "fscore = test_val['test_f1_weighted'].mean()\n",
    "    \n",
    "print('ig vector -', \"Random Forest\", \"- precision: {0}, recall: {1}, fscore: {2}\".format(precision, recall, fscore))"
   ]
  },
  {
   "cell_type": "markdown",
   "metadata": {},
   "source": [
    "## Again, What is happening?"
   ]
  },
  {
   "cell_type": "code",
   "execution_count": 120,
   "metadata": {},
   "outputs": [
    {
     "data": {
      "image/png": "[encoded data removed]",
      "text/plain": [
       "<Figure size 720x288 with 1 Axes>"
      ]
     },
     "metadata": {},
     "output_type": "display_data"
    }
   ],
   "source": [
    "# Validation Curve\n",
    "def plot_val_curve(predictor, X, y, name_param, name_pred, param_space, scoring='accuracy', cv=3):\n",
    "    train_scores, test_scores = validation_curve(predictor, X, y, name_param,\n",
    "                                               param_space, scoring=scoring, cv=cv)\n",
    "    call_plot(param_space, train_scores, test_scores, name_pred, name_param, scoring)\n",
    "    \n",
    "plot_val_curve(LinearSVC(), ig_vec, labels, 'C',\n",
    "               'Linear SVC', [d/10 for d in range(1,11)], scoring='f1_weighted')"
   ]
  },
  {
   "cell_type": "markdown",
   "metadata": {},
   "source": [
    "<br>\n",
    "# This is not the end - SMOTE"
   ]
  },
  {
   "cell_type": "code",
   "execution_count": 134,
   "metadata": {},
   "outputs": [],
   "source": [
    "from imblearn.over_sampling import SMOTE\n",
    "\n",
    "sm = SMOTE(random_state=42, ratio = 1.0)\n",
    "exteneded_ig_vec, extended_labels = sm.fit_sample(ig_vec, labels)"
   ]
  },
  {
   "cell_type": "code",
   "execution_count": 135,
   "metadata": {},
   "outputs": [
    {
     "name": "stdout",
     "output_type": "stream",
     "text": [
      "ig vector - SVC - precision: 0.7366290451535574, recall: 0.7351873904502165, fscore: 0.734775960779601\n"
     ]
    }
   ],
   "source": [
    "test_val = cross_validate(best_svc, exteneded_ig_vec, extended_labels, scoring=['precision_weighted', \n",
    "                                                       'recall_weighted', 'f1_weighted'], cv=10)\n",
    "\n",
    "precision = test_val['test_precision_weighted'].mean()\n",
    "recall = test_val['test_recall_weighted'].mean()\n",
    "fscore = test_val['test_f1_weighted'].mean()\n",
    "    \n",
    "print(\"ig vector -\", \"SVC\", \"- precision: {0}, recall: {1}, fscore: {2}\".format(precision, recall, fscore))"
   ]
  },
  {
   "cell_type": "markdown",
   "metadata": {},
   "source": [
    "### Further recall & precision analysis was omitted due to the time limitation! Still, the logic is clear."
   ]
  },
  {
   "cell_type": "markdown",
   "metadata": {},
   "source": [
    "<br>\n",
    "<br>\n",
    "# V. Evaluation\n",
    "\n",
    "## Confusion Matrix"
   ]
  },
  {
   "cell_type": "code",
   "execution_count": 144,
   "metadata": {},
   "outputs": [],
   "source": [
    "from sklearn.metrics import accuracy_score, confusion_matrix\n",
    "import itertools"
   ]
  },
  {
   "cell_type": "code",
   "execution_count": 145,
   "metadata": {},
   "outputs": [
    {
     "name": "stdout",
     "output_type": "stream",
     "text": [
      "Accuracy : 0.77225\n",
      "Classification Report\n",
      "             precision    recall  f1-score   support\n",
      "\n",
      "          0     0.7923    0.7391    0.7648      8015\n",
      "          4     0.7547    0.8055    0.7793      7985\n",
      "\n",
      "avg / total     0.7735    0.7722    0.7720     16000\n",
      "\n"
     ]
    },
    {
     "data": {
      "image/png": "[encoded data removed]",
      "text/plain": [
       "<Figure size 576x576 with 2 Axes>"
      ]
     },
     "metadata": {},
     "output_type": "display_data"
    }
   ],
   "source": [
    "# Full-Report\n",
    "def plot_confusion_mat(cm, classes, cmap=plt.cm.Blues):\n",
    "    title='Confusion matrix'\n",
    "    \n",
    "    plt.rcParams['font.size'] = 18\n",
    "    plt.figure(figsize=(8, 8))\n",
    "    plt.imshow(cm, interpolation='nearest', cmap=cmap)\n",
    "    plt.title(title)\n",
    "    plt.colorbar()\n",
    "    \n",
    "    tick_marks = np.arange(len(classes))\n",
    "    \n",
    "    plt.xticks(tick_marks, classes, rotation=45)\n",
    "    plt.yticks(tick_marks, classes)\n",
    "\n",
    "    fmt = 'd'\n",
    "    thresh = cm.max() / 2.\n",
    "    \n",
    "    for i, j in itertools.product(range(cm.shape[0]), range(cm.shape[1])):\n",
    "        plt.text(j, i, format(cm[i, j], fmt),\n",
    "                 horizontalalignment=\"center\",\n",
    "                 color=\"white\" if cm[i, j] > thresh else \"black\")\n",
    "\n",
    "    plt.tight_layout()\n",
    "    plt.ylabel('True label')\n",
    "    plt.xlabel('Predicted label')\n",
    "    \n",
    "def full_report(model, x, y_true, classes):\n",
    "    \n",
    "    # 2. Predict classes and stores in y_pred\n",
    "    y_pred = model.predict(x)\n",
    "    y_true = y_true\n",
    "\n",
    "    # 3. Print accuracy score\n",
    "    print(\"Accuracy : \"+ str(accuracy_score(y_true, y_pred)))\n",
    "    \n",
    "    # 4. Print classification report\n",
    "    print(\"Classification Report\")\n",
    "    print(classification_report(y_true, y_pred, digits=4))    \n",
    "    \n",
    "    # 5. Plot confusion matrix\n",
    "    cnf_matrix = confusion_matrix(y_true, y_pred)\n",
    "    \n",
    "    #print(cnf_matrix)\n",
    "    plot_confusion_mat(cnf_matrix, classes=classes)  \n",
    "\n",
    "full_report(best_svc, ig_vec, labels, ['Negative', 'Positive'])"
   ]
  },
  {
   "cell_type": "markdown",
   "metadata": {},
   "source": [
    "<br>\n",
    "## Error Analysis"
   ]
  },
  {
   "cell_type": "code",
   "execution_count": 168,
   "metadata": {},
   "outputs": [
    {
     "data": {
      "text/plain": [
       "Text(0.5,0,'Predicted label')"
      ]
     },
     "execution_count": 168,
     "metadata": {},
     "output_type": "execute_result"
    },
    {
     "data": {
      "image/png": "[encoded data removed]",
      "text/plain": [
       "<Figure size 576x576 with 2 Axes>"
      ]
     },
     "metadata": {},
     "output_type": "display_data"
    }
   ],
   "source": [
    "# Confusion Matrix - test\n",
    "y_pred = best_svc.predict(ig_vec)\n",
    "conf_mx = confusion_matrix(labels, y_pred)\n",
    "\n",
    "def plot_confusion_matrix(matrix):\n",
    "    fig = plt.figure(figsize=(8,8))\n",
    "    ax = fig.add_subplot(111)\n",
    "    cax = ax.matshow(matrix, cmap=plt.cm.Blues)\n",
    "    fig.colorbar(cax)\n",
    "\n",
    "# Closer look on errors\n",
    "row_sums = conf_mx.sum(axis=1, keepdims=True)\n",
    "norm_conf_mx = conf_mx / row_sums\n",
    "\n",
    "np.fill_diagonal(norm_conf_mx, 0)\n",
    "plot_confusion_matrix(norm_conf_mx)\n",
    "\n",
    "classes = ['Negative', 'Positive']\n",
    "\n",
    "\n",
    "plt.title('Normalized Confusion Matrix')\n",
    "tick_marks = np.arange(len(classes))\n",
    "plt.xticks(tick_marks, classes)\n",
    "plt.yticks(tick_marks, classes)\n",
    "plt.ylabel('True label')\n",
    "plt.xlabel('Predicted label')"
   ]
  }
 ],
 "metadata": {
  "kernelspec": {
   "display_name": "Python 3",
   "language": "python",
   "name": "python3"
  },
  "language_info": {
   "codemirror_mode": {
    "name": "ipython",
    "version": 3
   },
   "file_extension": ".py",
   "mimetype": "text/x-python",
   "name": "python",
   "nbconvert_exporter": "python",
   "pygments_lexer": "ipython3",
   "version": "3.6.4"
  }
 },
 "nbformat": 4,
 "nbformat_minor": 2
}
